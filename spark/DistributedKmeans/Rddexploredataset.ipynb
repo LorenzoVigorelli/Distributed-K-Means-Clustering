{
 "cells": [
  {
   "cell_type": "code",
   "execution_count": 1,
   "id": "2afb19f6-1725-4f2f-9eec-921b63ad73ac",
   "metadata": {},
   "outputs": [],
   "source": [
    "from sklearn.datasets import fetch_kddcup99\n",
    "import numpy as np\n",
    "import matplotlib.pyplot as plt"
   ]
  },
  {
   "cell_type": "code",
   "execution_count": 2,
   "id": "5641b626-9c40-4152-9ea7-bc4c66ed3f26",
   "metadata": {},
   "outputs": [
    {
     "name": "stderr",
     "output_type": "stream",
     "text": [
      "24/07/02 14:37:23 WARN SparkSession: Using an existing Spark session; only runtime SQL configurations will take effect.\n"
     ]
    }
   ],
   "source": [
    "# import the python libraries to create/connect to a Spark Session\n",
    "from pyspark.sql import SparkSession\n",
    "\n",
    "# build a SparkSession \n",
    "#   connect to the master node on the port where the master node is listening (7077)\n",
    "#   declare the app name \n",
    "#   configure the executor memory to 512 MB\n",
    "#   either *connect* or *create* a new Spark Context\n",
    "spark = SparkSession.builder \\\n",
    "    .master(\"spark://spark-master:7077\")\\\n",
    "    .appName(\"My first spark application\")\\\n",
    "    .config(\"spark.executor.memory\", \"512m\")\\\n",
    "    .getOrCreate()"
   ]
  },
  {
   "cell_type": "code",
   "execution_count": 3,
   "id": "9175c645-8567-44a5-941f-4400f6653aa8",
   "metadata": {},
   "outputs": [],
   "source": [
    "# create a spark context\n",
    "sc = spark.sparkContext"
   ]
  },
  {
   "cell_type": "code",
   "execution_count": 4,
   "id": "698c10ce-f6c7-4e20-8c8b-6f168ce174c2",
   "metadata": {},
   "outputs": [],
   "source": [
    "data = fetch_kddcup99(return_X_y = True, percent10 = True) # default percent10=True"
   ]
  },
  {
   "cell_type": "code",
   "execution_count": 5,
   "id": "932c5bd5-ab46-4e5d-b71c-111243f9d8b5",
   "metadata": {},
   "outputs": [],
   "source": [
    "## ADD TABLES WITH MATPLOTLIB"
   ]
  },
  {
   "cell_type": "markdown",
   "id": "b05a7fad-2e80-46eb-ae4d-b1633eac4fef",
   "metadata": {},
   "source": [
    "# DESCRIBE THE DATA SET"
   ]
  },
  {
   "cell_type": "code",
   "execution_count": 6,
   "id": "554fa98e-e69c-4521-86c0-d0dec6bbedc4",
   "metadata": {},
   "outputs": [
    {
     "name": "stdout",
     "output_type": "stream",
     "text": [
      "The number of samples is  494021\n",
      "The dimensionality is  41\n"
     ]
    }
   ],
   "source": [
    "print(\"The number of samples is \", data[0].shape[0])\n",
    "print(\"The dimensionality is \", data[0].shape[1])"
   ]
  },
  {
   "cell_type": "markdown",
   "id": "3fef075d-294b-43ea-b8bc-fce9fbe154c0",
   "metadata": {},
   "source": [
    "Classes: 23\n",
    "Samples total: 4898431\n",
    "Dimensionality: 41\n",
    "Features: discrete (int) or continuous (float)\n",
    "\n",
    "The first containing a 2D array of shape (n_samples, n_features) with each row representing one sample and each column representing the features\n",
    "\n",
    "\n",
    "The first 4 elements of the data set (letters, what are them)\n",
    "Duration: The length (in seconds) of the connection.\n",
    "Protocol Type: The type of protocol used, such as TCP, UDP, or ICMP.\n",
    "Service: The network service on the destination, such as HTTP, FTP, or SMTP.\n",
    "Flag: The status flag of the connection, such as SF (successful connection), REJ (connection rejected), etc."
   ]
  },
  {
   "cell_type": "code",
   "execution_count": 7,
   "id": "4dd29c09-1331-473b-9105-6acd3b1aaefb",
   "metadata": {},
   "outputs": [],
   "source": [
    "# collect samples and features (target)\n",
    "x = data[0]\n",
    "y = data[1] "
   ]
  },
  {
   "cell_type": "code",
   "execution_count": 8,
   "id": "c242d0d4-6706-4923-88f1-a9bb6478eedb",
   "metadata": {},
   "outputs": [],
   "source": [
    "nSlice = None\n",
    "Rdd = sc.parallelize([(None, {\"x\": x[i],\"y\": y[i]}) for i in range(data[0].shape[0])], numSlices = nSlice)"
   ]
  },
  {
   "cell_type": "code",
   "execution_count": 9,
   "id": "04139211-7061-4167-ad02-4e3d8b921581",
   "metadata": {},
   "outputs": [
    {
     "data": {
      "text/plain": [
       "8"
      ]
     },
     "execution_count": 9,
     "metadata": {},
     "output_type": "execute_result"
    }
   ],
   "source": [
    "Rdd.getNumPartitions() # check partitions"
   ]
  },
  {
   "cell_type": "markdown",
   "id": "600fd41d-8ff5-4a25-a659-3cd5cfac0901",
   "metadata": {},
   "source": [
    "Check and delete the symbolic variables in the dataset"
   ]
  },
  {
   "cell_type": "code",
   "execution_count": 10,
   "id": "37aefbef-c530-405f-b009-313d37dcbb13",
   "metadata": {},
   "outputs": [
    {
     "name": "stderr",
     "output_type": "stream",
     "text": [
      "24/07/02 14:37:28 WARN TaskSetManager: Stage 0 contains a task of very large size (15220 KiB). The maximum recommended task size is 1000 KiB.\n",
      "                                                                                \r"
     ]
    }
   ],
   "source": [
    "typeElement = Rdd.map(lambda datum: datum[1][\"x\"])\\\n",
    "                 .map(lambda x: [set([type(x[i])]) for i in range(len(x))])\\\n",
    "                 .reduce(lambda a, b: [a[i].union(b[i]) for i in range(len(a))])"
   ]
  },
  {
   "cell_type": "code",
   "execution_count": 11,
   "id": "aec095f0-09a9-4e60-bf0e-d5a259a00a8c",
   "metadata": {
    "scrolled": true
   },
   "outputs": [
    {
     "name": "stdout",
     "output_type": "stream",
     "text": [
      "The types of the dimensionalities are:\n"
     ]
    },
    {
     "data": {
      "text/plain": [
       "[{int},\n",
       " {bytes},\n",
       " {bytes},\n",
       " {bytes},\n",
       " {int},\n",
       " {int},\n",
       " {int},\n",
       " {int},\n",
       " {int},\n",
       " {int},\n",
       " {int},\n",
       " {int},\n",
       " {int},\n",
       " {int},\n",
       " {int},\n",
       " {int},\n",
       " {int},\n",
       " {int},\n",
       " {int},\n",
       " {int},\n",
       " {int},\n",
       " {int},\n",
       " {int},\n",
       " {int},\n",
       " {float},\n",
       " {float},\n",
       " {float},\n",
       " {float},\n",
       " {float},\n",
       " {float},\n",
       " {float},\n",
       " {int},\n",
       " {int},\n",
       " {float},\n",
       " {float},\n",
       " {float},\n",
       " {float},\n",
       " {float},\n",
       " {float},\n",
       " {float},\n",
       " {float}]"
      ]
     },
     "execution_count": 11,
     "metadata": {},
     "output_type": "execute_result"
    }
   ],
   "source": [
    "print(\"The types of the dimensionalities are:\")\n",
    "typeElement"
   ]
  },
  {
   "cell_type": "code",
   "execution_count": 12,
   "id": "acf643f4-07a2-42d6-93f3-1ccbd22d6f18",
   "metadata": {},
   "outputs": [
    {
     "name": "stdout",
     "output_type": "stream",
     "text": [
      "The number of columns (dimensionality) after filtering the bytes is 38\n"
     ]
    }
   ],
   "source": [
    "numberColumns = len([i for i in typeElement if i != set([bytes])])\n",
    "print(\"The number of columns (dimensionality) after filtering the bytes is\", numberColumns)"
   ]
  },
  {
   "cell_type": "code",
   "execution_count": 13,
   "id": "7b2f6cdb-2a6b-4110-9b7f-5f39849121db",
   "metadata": {},
   "outputs": [
    {
     "name": "stderr",
     "output_type": "stream",
     "text": [
      "24/07/02 14:37:31 WARN TaskSetManager: Stage 1 contains a task of very large size (15220 KiB). The maximum recommended task size is 1000 KiB.\n",
      "24/07/02 14:37:33 WARN TaskSetManager: Stage 3 contains a task of very large size (15220 KiB). The maximum recommended task size is 1000 KiB.\n",
      "24/07/02 14:37:35 WARN TaskSetManager: Stage 5 contains a task of very large size (15220 KiB). The maximum recommended task size is 1000 KiB.\n",
      "24/07/02 14:37:36 WARN TaskSetManager: Stage 7 contains a task of very large size (15220 KiB). The maximum recommended task size is 1000 KiB.\n",
      "24/07/02 14:37:37 WARN TaskSetManager: Stage 9 contains a task of very large size (15220 KiB). The maximum recommended task size is 1000 KiB.\n",
      "24/07/02 14:37:40 WARN TaskSetManager: Stage 11 contains a task of very large size (15220 KiB). The maximum recommended task size is 1000 KiB.\n",
      "24/07/02 14:37:41 WARN TaskSetManager: Stage 13 contains a task of very large size (15220 KiB). The maximum recommended task size is 1000 KiB.\n",
      "24/07/02 14:37:42 WARN TaskSetManager: Stage 15 contains a task of very large size (15220 KiB). The maximum recommended task size is 1000 KiB.\n",
      "24/07/02 14:37:44 WARN TaskSetManager: Stage 17 contains a task of very large size (15220 KiB). The maximum recommended task size is 1000 KiB.\n",
      "24/07/02 14:37:45 WARN TaskSetManager: Stage 19 contains a task of very large size (15220 KiB). The maximum recommended task size is 1000 KiB.\n",
      "24/07/02 14:37:46 WARN TaskSetManager: Stage 21 contains a task of very large size (15220 KiB). The maximum recommended task size is 1000 KiB.\n",
      "24/07/02 14:37:47 WARN TaskSetManager: Stage 23 contains a task of very large size (15220 KiB). The maximum recommended task size is 1000 KiB.\n",
      "24/07/02 14:37:48 WARN TaskSetManager: Stage 25 contains a task of very large size (15220 KiB). The maximum recommended task size is 1000 KiB.\n",
      "24/07/02 14:37:50 WARN TaskSetManager: Stage 27 contains a task of very large size (15220 KiB). The maximum recommended task size is 1000 KiB.\n",
      "24/07/02 14:37:51 WARN TaskSetManager: Stage 29 contains a task of very large size (15220 KiB). The maximum recommended task size is 1000 KiB.\n",
      "24/07/02 14:37:52 WARN TaskSetManager: Stage 31 contains a task of very large size (15220 KiB). The maximum recommended task size is 1000 KiB.\n",
      "24/07/02 14:37:53 WARN TaskSetManager: Stage 33 contains a task of very large size (15220 KiB). The maximum recommended task size is 1000 KiB.\n",
      "24/07/02 14:37:54 WARN TaskSetManager: Stage 35 contains a task of very large size (15220 KiB). The maximum recommended task size is 1000 KiB.\n",
      "24/07/02 14:37:55 WARN TaskSetManager: Stage 37 contains a task of very large size (15220 KiB). The maximum recommended task size is 1000 KiB.\n",
      "24/07/02 14:37:56 WARN TaskSetManager: Stage 39 contains a task of very large size (15220 KiB). The maximum recommended task size is 1000 KiB.\n",
      "24/07/02 14:37:57 WARN TaskSetManager: Stage 41 contains a task of very large size (15220 KiB). The maximum recommended task size is 1000 KiB.\n",
      "24/07/02 14:37:59 WARN TaskSetManager: Stage 43 contains a task of very large size (15220 KiB). The maximum recommended task size is 1000 KiB.\n",
      "24/07/02 14:38:01 WARN TaskSetManager: Stage 45 contains a task of very large size (15220 KiB). The maximum recommended task size is 1000 KiB.\n",
      "24/07/02 14:38:02 WARN TaskSetManager: Stage 47 contains a task of very large size (15220 KiB). The maximum recommended task size is 1000 KiB.\n",
      "24/07/02 14:38:03 WARN TaskSetManager: Stage 49 contains a task of very large size (15220 KiB). The maximum recommended task size is 1000 KiB.\n",
      "24/07/02 14:38:04 WARN TaskSetManager: Stage 51 contains a task of very large size (15220 KiB). The maximum recommended task size is 1000 KiB.\n",
      "24/07/02 14:38:05 WARN TaskSetManager: Stage 53 contains a task of very large size (15220 KiB). The maximum recommended task size is 1000 KiB.\n",
      "24/07/02 14:38:06 WARN TaskSetManager: Stage 55 contains a task of very large size (15220 KiB). The maximum recommended task size is 1000 KiB.\n",
      "24/07/02 14:38:07 WARN TaskSetManager: Stage 57 contains a task of very large size (15220 KiB). The maximum recommended task size is 1000 KiB.\n",
      "24/07/02 14:38:09 WARN TaskSetManager: Stage 59 contains a task of very large size (15220 KiB). The maximum recommended task size is 1000 KiB.\n",
      "24/07/02 14:38:10 WARN TaskSetManager: Stage 61 contains a task of very large size (15220 KiB). The maximum recommended task size is 1000 KiB.\n",
      "24/07/02 14:38:11 WARN TaskSetManager: Stage 63 contains a task of very large size (15220 KiB). The maximum recommended task size is 1000 KiB.\n",
      "24/07/02 14:38:12 WARN TaskSetManager: Stage 65 contains a task of very large size (15220 KiB). The maximum recommended task size is 1000 KiB.\n",
      "24/07/02 14:38:13 WARN TaskSetManager: Stage 67 contains a task of very large size (15220 KiB). The maximum recommended task size is 1000 KiB.\n",
      "24/07/02 14:38:14 WARN TaskSetManager: Stage 69 contains a task of very large size (15220 KiB). The maximum recommended task size is 1000 KiB.\n",
      "24/07/02 14:38:15 WARN TaskSetManager: Stage 71 contains a task of very large size (15220 KiB). The maximum recommended task size is 1000 KiB.\n",
      "24/07/02 14:38:17 WARN TaskSetManager: Stage 73 contains a task of very large size (15220 KiB). The maximum recommended task size is 1000 KiB.\n",
      "24/07/02 14:38:18 WARN TaskSetManager: Stage 75 contains a task of very large size (15220 KiB). The maximum recommended task size is 1000 KiB.\n",
      "24/07/02 14:38:19 WARN TaskSetManager: Stage 77 contains a task of very large size (15220 KiB). The maximum recommended task size is 1000 KiB.\n",
      "24/07/02 14:38:20 WARN TaskSetManager: Stage 79 contains a task of very large size (15220 KiB). The maximum recommended task size is 1000 KiB.\n",
      "24/07/02 14:38:21 WARN TaskSetManager: Stage 81 contains a task of very large size (15220 KiB). The maximum recommended task size is 1000 KiB.\n",
      "[Stage 81:==================================================>       (7 + 1) / 8]\r"
     ]
    },
    {
     "name": "stdout",
     "output_type": "stream",
     "text": [
      "CPU times: user 333 ms, sys: 99.4 ms, total: 433 ms\n",
      "Wall time: 50.8 s\n"
     ]
    },
    {
     "name": "stderr",
     "output_type": "stream",
     "text": [
      "                                                                                \r"
     ]
    }
   ],
   "source": [
    "%%time\n",
    "uniquesParallel = []\n",
    "for i in range(41):\n",
    "    s = Rdd.map(lambda datum: datum[1][\"x\"])\\\n",
    "        .map(lambda x: x[i])\\\n",
    "        .distinct()\\\n",
    "        .count()\n",
    "    uniquesParallel.append(s)"
   ]
  },
  {
   "cell_type": "code",
   "execution_count": 15,
   "id": "0278d013-b6c4-42a2-a574-0739232f4039",
   "metadata": {},
   "outputs": [
    {
     "name": "stdout",
     "output_type": "stream",
     "text": [
      "The number of uniques is [2495, 3, 66, 11, 3300, 10725, 2, 3, 4, 22, 6, 2, 23, 2, 3, 20, 18, 3, 7, 1, 1, 2, 490, 470, 92, 51, 77, 51, 99, 78, 64, 256, 256, 101, 101, 101, 65, 100, 72, 101, 101]\n"
     ]
    }
   ],
   "source": [
    "print(\"The number of uniques is\", uniquesParallel)"
   ]
  },
  {
   "cell_type": "code",
   "execution_count": 16,
   "id": "55aaa50c-301e-4b50-8f5f-d96bf1c06250",
   "metadata": {},
   "outputs": [
    {
     "name": "stdout",
     "output_type": "stream",
     "text": [
      "The uniques are: [2495, 3, 66, 11, 3300, 10725, 2, 3, 4, 22, 6, 2, 23, 2, 3, 20, 18, 3, 7, 1, 1, 2, 490, 470, 92, 51, 77, 51, 99, 78, 64, 256, 256, 101, 101, 101, 65, 100, 72, 101, 101]\n",
      "CPU times: user 10.6 s, sys: 8.14 ms, total: 10.7 s\n",
      "Wall time: 10.7 s\n"
     ]
    }
   ],
   "source": [
    "%%time\n",
    "uniques = []\n",
    "for i in range (x.shape[1]):\n",
    "    k = (len(np.unique(x[:, i])))\n",
    "    uniques.append(k)\n",
    "print(\"The uniques are:\", uniques)"
   ]
  },
  {
   "cell_type": "markdown",
   "id": "4ebdcc34-08af-4eb0-8c81-a82fbb87153f",
   "metadata": {},
   "source": [
    "It takes 4 times for to do it in parallel (explain what is better to use)"
   ]
  },
  {
   "cell_type": "code",
   "execution_count": 17,
   "id": "06cca7ee-56c8-4dac-86dd-648509e2b0fb",
   "metadata": {},
   "outputs": [],
   "source": [
    "# why running it a second time takes way more time?"
   ]
  },
  {
   "cell_type": "code",
   "execution_count": 18,
   "id": "42f575b0-e561-4e92-bec6-8f9d96a63271",
   "metadata": {},
   "outputs": [
    {
     "name": "stderr",
     "output_type": "stream",
     "text": [
      "24/07/02 14:40:08 WARN TaskSetManager: Stage 83 contains a task of very large size (15220 KiB). The maximum recommended task size is 1000 KiB.\n",
      "[Stage 83:>                                                         (0 + 8) / 8]\r"
     ]
    },
    {
     "name": "stdout",
     "output_type": "stream",
     "text": [
      "CPU times: user 4.42 ms, sys: 8.04 ms, total: 12.5 ms\n",
      "Wall time: 979 ms\n"
     ]
    },
    {
     "name": "stderr",
     "output_type": "stream",
     "text": [
      "                                                                                \r"
     ]
    }
   ],
   "source": [
    "%%time\n",
    "kTrue = Rdd.map(lambda datum: datum[1][\"y\"])\\\n",
    "        .distinct()\\\n",
    "        .count()"
   ]
  },
  {
   "cell_type": "code",
   "execution_count": 19,
   "id": "9adbc5de-575a-4782-81bf-dce9b62df298",
   "metadata": {},
   "outputs": [
    {
     "name": "stdout",
     "output_type": "stream",
     "text": [
      "The true number of the classes is 23\n"
     ]
    }
   ],
   "source": [
    "print(\"The true number of the classes is\", kTrue)"
   ]
  },
  {
   "cell_type": "code",
   "execution_count": 35,
   "id": "7cf704e8-46f7-4b08-95df-74dbcd2a4597",
   "metadata": {},
   "outputs": [
    {
     "name": "stderr",
     "output_type": "stream",
     "text": [
      "24/07/02 14:46:45 WARN TaskSetManager: Stage 87 contains a task of very large size (15220 KiB). The maximum recommended task size is 1000 KiB.\n",
      "[Stage 87:====================================>                     (5 + 3) / 8]\r"
     ]
    },
    {
     "name": "stdout",
     "output_type": "stream",
     "text": [
      "The y things are: defaultdict(<class 'int'>, {b'normal.': 97278, b'buffer_overflow.': 30, b'loadmodule.': 9, b'perl.': 3, b'neptune.': 107201, b'smurf.': 280790, b'guess_passwd.': 53, b'pod.': 264, b'teardrop.': 979, b'portsweep.': 1040, b'ipsweep.': 1247, b'land.': 21, b'ftp_write.': 8, b'back.': 2203, b'imap.': 12, b'satan.': 1589, b'phf.': 4, b'nmap.': 231, b'multihop.': 7, b'warezmaster.': 20, b'warezclient.': 1020, b'spy.': 2, b'rootkit.': 10})\n",
      "CPU times: user 9.5 ms, sys: 3.83 ms, total: 13.3 ms\n",
      "Wall time: 846 ms\n"
     ]
    },
    {
     "name": "stderr",
     "output_type": "stream",
     "text": [
      "                                                                                \r"
     ]
    }
   ],
   "source": [
    "%%time\n",
    "uniquesParallely = Rdd.map(lambda datum: datum[1][\"y\"])\\\n",
    "        .countByValue()\n",
    "\n",
    "print(\"The y things are:\", uniquesParallely)"
   ]
  },
  {
   "cell_type": "code",
   "execution_count": 72,
   "id": "8acc5755-c9f1-4810-93f4-a554194c7678",
   "metadata": {},
   "outputs": [],
   "source": [
    "yUnique = [a.decode('utf-8') for a in uniquesParallely.keys()]\n",
    "xUnique = list(uniquesParallely.values())\n",
    "attributes = [\n",
    "    \"duration\",\n",
    "    \"protocol_type\",\n",
    "    \"service\",\n",
    "    \"flag\",\n",
    "    \"src_bytes\",\n",
    "    \"dst_bytes\",\n",
    "    \"land\",\n",
    "    \"wrong_fragment\",\n",
    "    \"urgent\",\n",
    "    \"hot\",\n",
    "    \"num_failed_logins\",\n",
    "    \"logged_in\",\n",
    "    \"num_compromised\",\n",
    "    \"root_shell\",\n",
    "    \"su_attempted\",\n",
    "    \"num_root\",\n",
    "    \"num_file_creations\",\n",
    "    \"num_shells\",\n",
    "    \"num_access_files\",\n",
    "    \"num_outbound_cmds\",\n",
    "    \"is_host_login\",\n",
    "    \"is_guest_login\",\n",
    "    \"count\",\n",
    "    \"srv_count\",\n",
    "    \"serror_rate\",\n",
    "    \"srv_serror_rate\",\n",
    "    \"rerror_rate\",\n",
    "    \"srv_rerror_rate\",\n",
    "    \"same_srv_rate\",\n",
    "    \"diff_srv_rate\",\n",
    "    \"srv_diff_host_rate\",\n",
    "    \"dst_host_count\",\n",
    "    \"dst_host_srv_count\",\n",
    "    \"dst_host_same_srv_rate\",\n",
    "    \"dst_host_diff_srv_rate\",\n",
    "    \"dst_host_same_src_port_rate\",\n",
    "    \"dst_host_srv_diff_host_rate\",\n",
    "    \"dst_host_serror_rate\",\n",
    "    \"dst_host_srv_serror_rate\",\n",
    "    \"dst_host_rerror_rate\",\n",
    "    \"dst_host_srv_rerror_rate\"\n",
    "]\n"
   ]
  },
  {
   "cell_type": "code",
   "execution_count": 81,
   "id": "7442e910-acf7-45f3-bcaf-8f09a8d8c265",
   "metadata": {},
   "outputs": [
    {
     "data": {
      "image/png": "[encoded data removed]",
      "text/plain": [
       "<Figure size 2000x1000 with 2 Axes>"
      ]
     },
     "metadata": {},
     "output_type": "display_data"
    }
   ],
   "source": [
    "# add log 10 the ax and npt the count\n",
    "fig, ax = plt.subplots(1, 2, figsize=(20, 10))\n",
    "ax[0].barh(yUnique, np.log10(xUnique))\n",
    "ax[0].set_xlabel(\"log10 count\")\n",
    "ax[0].set_ylabel(\"Label\")\n",
    "ax[0].set_title(\"Label count\")\n",
    "ax[1].barh(attributes, np.log10(uniquesParallel))\n",
    "ax[1].set_xlabel(\"log10 count\")\n",
    "ax[1].set_ylabel(\"Attribute\")\n",
    "ax[1].set_title(\"Attribute count\")\n",
    "fig.tight_layout()"
   ]
  },
  {
   "cell_type": "code",
   "execution_count": 82,
   "id": "6f341bee-633c-436b-a653-0cd7df02130c",
   "metadata": {},
   "outputs": [],
   "source": [
    "def deleteBytes(datum):\n",
    "    x = datum[1][\"x\"]\n",
    "    mask = [type(i) != bytes for i in x]\n",
    "    datum[1][\"x\"] = np.asarray(x[mask])\n",
    "    print(x)\n",
    "    print(mask)\n",
    "    return datum"
   ]
  },
  {
   "cell_type": "code",
   "execution_count": 83,
   "id": "3849ecfd-54e2-4a7d-adbe-79afea494c51",
   "metadata": {},
   "outputs": [],
   "source": [
    "Rdd = Rdd.map(deleteBytes)\\\n",
    "         .persist()"
   ]
  },
  {
   "cell_type": "code",
   "execution_count": null,
   "id": "b049a3dd-d6ee-49b4-acc4-d9e399885904",
   "metadata": {},
   "outputs": [],
   "source": []
  },
  {
   "cell_type": "code",
   "execution_count": null,
   "id": "ca0bf87e-6db9-48fd-be4c-35d88170b411",
   "metadata": {},
   "outputs": [],
   "source": []
  },
  {
   "cell_type": "code",
   "execution_count": null,
   "id": "3cf1614a-4f7b-4a6d-bd2b-a7e12f0a9cb4",
   "metadata": {},
   "outputs": [],
   "source": []
  },
  {
   "cell_type": "code",
   "execution_count": null,
   "id": "fcc27386-2a0b-4ab5-9a2b-01058690acbc",
   "metadata": {},
   "outputs": [],
   "source": [
    "def minmaxRescale(datum, minS, maxS):\n",
    "    mask = (minS < maxS).astype(bool)\n",
    "    feature = datum[1][\"x\"] \n",
    "    feature = (feature[mask] - minS[mask])/(maxS[mask] - minS[mask])\n",
    "    return (datum[0], {\"x\": feature, \"y\": datum[1][\"y\"]})   \n",
    "\n"
   ]
  },
  {
   "cell_type": "code",
   "execution_count": null,
   "id": "37bbf8ad-360b-4aa9-8302-3e33aa824b52",
   "metadata": {},
   "outputs": [],
   "source": [
    "%%time\n",
    "maxS = Rdd.map(lambda datum: datum[1][\"x\"])\\\n",
    "           .reduce(lambda a, b: np.maximum(a, b))\n",
    "minS = Rdd.map(lambda datum: datum[1][\"x\"])\\\n",
    "           .reduce(lambda a, b: np.minimum(a, b))\n",
    "\n",
    "print(maxS.shape)\n",
    "print((minS < maxS).astype(bool))"
   ]
  },
  {
   "cell_type": "code",
   "execution_count": null,
   "id": "c93d861c-b61f-47a8-8b86-a899e0b6ba64",
   "metadata": {},
   "outputs": [],
   "source": [
    "a,b=np.array([1,3,5]), np.array([2,1,5])\n",
    "print(np.maximum(a,b))"
   ]
  },
  {
   "cell_type": "code",
   "execution_count": null,
   "id": "6cc0b3b2-3b22-4018-9573-dd125c4f8f17",
   "metadata": {},
   "outputs": [],
   "source": [
    "print(*zip(minS, maxS))\n",
    "print((minS < maxS).astype(bool).shape)"
   ]
  },
  {
   "cell_type": "code",
   "execution_count": null,
   "id": "5c47ef63-f36f-4e96-adb7-80422ebb9cbc",
   "metadata": {},
   "outputs": [],
   "source": [
    "#### fix ####\n",
    "# %%time\n",
    "# results = Rdd.map(lambda datum: datum[\"x\"])\\\n",
    "#               .reduce(lambda a, b: (np.maximum(a[0], b[0]), np.minimum(a[1], b[1]))"
   ]
  },
  {
   "cell_type": "code",
   "execution_count": null,
   "id": "92b06aaa-8ef9-4e41-b42b-c72bea381ae1",
   "metadata": {},
   "outputs": [],
   "source": [
    "Rdd = Rdd.map(lambda datum: minmaxRescale(datum, minS, maxS))\n",
    "print(Rdd.takeSample(False, 3)[0][1]['x'].shape)\n"
   ]
  },
  {
   "cell_type": "code",
   "execution_count": null,
   "id": "35397a12-f95d-4f61-ba39-4384d0268142",
   "metadata": {},
   "outputs": [],
   "source": [
    "local_datum=Rdd.takeSample(False, 3)[0]"
   ]
  },
  {
   "cell_type": "code",
   "execution_count": null,
   "id": "26516cee-cd3a-4708-b4d4-6d42d418d2f7",
   "metadata": {},
   "outputs": [],
   "source": [
    "def selectCluster(datum, C):\n",
    "    \"\"\"\n",
    "    dimC(k, len(datum))\n",
    "    \"\"\"\n",
    "    distances = np.sum((datum[1][\"x\"] - C)**2, axis=1)\n",
    "    clusterId = np.argmin(distances)\n",
    "    return (clusterId, datum[1])"
   ]
  },
  {
   "cell_type": "code",
   "execution_count": null,
   "id": "532ba72f-e0fc-4714-b00c-daea23dd5ed6",
   "metadata": {},
   "outputs": [],
   "source": [
    "'''\n",
    "C_init=naiveInitFromSpace(14, len(local_datum[1]['x']))\n",
    "print(C_init.shape)\n",
    "'''"
   ]
  },
  {
   "cell_type": "code",
   "execution_count": null,
   "id": "6b7584aa-92fe-4d3c-a7a8-80c166ed0230",
   "metadata": {},
   "outputs": [],
   "source": [
    "'''\n",
    "C_init=[el for el in C_init]\n",
    "print(selectCluster(local_datum, C_init))\n",
    "'''"
   ]
  },
  {
   "cell_type": "code",
   "execution_count": null,
   "id": "e7c9b98a-944e-4b8f-a52a-095a0ba98025",
   "metadata": {},
   "outputs": [],
   "source": [
    "#update centroids as 'centers of mass' of clusters\n",
    "def updateCentroids(Rdd):\n",
    "    C=Rdd.mapValues(lambda xy: (xy['x'], 1))\\\n",
    "              .reduceByKey(lambda a,b : (a[0]+b[0], a[1]+b[1]))\\\n",
    "              .mapValues(lambda a:a[0]/a[1])\\\n",
    "              .values()\\\n",
    "              .collect() \n",
    "    C=np.array(C) #check later more carefully if causes some overhead\n",
    "    return C\n"
   ]
  },
  {
   "cell_type": "code",
   "execution_count": null,
   "id": "06ecbe51-fcb3-425b-879f-c88eade0ba40",
   "metadata": {},
   "outputs": [],
   "source": [
    "#lets assume entry of xy dictionary to be distance opf point from its centroid\n",
    "# ADD IF NOT TIME CONSUMING d ENTRY IN XY DICTIONARY FOR CONSISTENCY\n",
    "\n",
    "#update the Rdd with square distances from centroids, given Rdd with centroids already updated \n",
    "def updateDistances(Rdd, C):\n",
    "    def datumUpdate(datum, C):\n",
    "        datum[1]['d2']=np.sum((datum[1]['x']-C[datum[0]])**2)\n",
    "        return datum\n",
    "    Rdd.map(lambda datum:datumUpdate(datum, C))\n",
    "    return Rdd\n",
    "#calculate global cost of X,C from an Rdd with distances from centroids already updated\n",
    "def cost(Rdd):\n",
    "    my_cost=Rdd.map(lambda datum : datum[1]['d2'])\\\n",
    "       .reduce(lambda a,b: a+b)\n",
    "    return my_cost "
   ]
  },
  {
   "cell_type": "code",
   "execution_count": null,
   "id": "74cf24af-9265-4979-9e8c-f89f4ab74e7a",
   "metadata": {},
   "outputs": [],
   "source": [
    "def kMeans(Rdd, C_init, maxIterations):\n",
    "    C=C_init\n",
    "    for t in range(maxIterations):\n",
    "        Rdd = Rdd.map(lambda datum: selectCluster(datum, C))\n",
    "        # Now we compute the new centroids by calculating the averages of points belonging to the same cluster.\n",
    "        # Need to check that all centroids are assigned to at least one point, otherwise k changes!!! Solutions?!\n",
    "        C=updateCentroids(Rdd)\n",
    "    return C"
   ]
  },
  {
   "cell_type": "markdown",
   "id": "ae7525f0-2f49-48da-8254-6db652b7337a",
   "metadata": {},
   "source": [
    "Different initialization functions"
   ]
  },
  {
   "cell_type": "code",
   "execution_count": null,
   "id": "80f4e846-7363-4be0-b3c8-0801a87783f1",
   "metadata": {},
   "outputs": [],
   "source": [
    "def naiveInitFromSet(Rdd, k):\n",
    "    #uniform sampling of k points from Rdd\n",
    "    kSubset=Rdd.takeSample(False, k)\n",
    "    # Replacement is set to False to avoid coinciding centroids BUT no guarantees that in the original dataset all points are distinct!!! Check if causes problems in the algorithm (i.e. need to pre-filter) or it's ok\n",
    "    C_init=np.array([datum[1]['x'] for datum in kSubset])\n",
    "    return C_init\n",
    "def naiveInitFromSpace(k, dim):\n",
    "    #uniform drawing of k points from euclidean space\n",
    "    #we assume the Rdd has been mapped into a [0,1]^dim space\n",
    "    C_init=np.random.uniform(size=(k,dim))\n",
    "    return C_init"
   ]
  },
  {
   "cell_type": "code",
   "execution_count": null,
   "id": "c4ef6f9d-0e3e-45de-897c-63100f949315",
   "metadata": {},
   "outputs": [],
   "source": [
    "'''\n",
    "1: C ← sample a point uniformly at random from X\n",
    "2: ψ ← φX (C)\n",
    "3: for O(log ψ) times do\n",
    "4:\n",
    "C 0 ← sample each point x ∈ X independently with\n",
    "2\n",
    "(x,C)\n",
    "probability px = `·d\n",
    "φX (C)\n",
    "0\n",
    "5:\n",
    "C ←C∪C\n",
    "6: end for\n",
    "7: For x ∈ C, set wx to be the number of points in X closer\n",
    "to x than any other point in C\n",
    "8: Recluster the weighted points in C into k clusters\n",
    "'''\n",
    "def parallelInit(Rdd, k, l):\n",
    "    C=naiveInitFromSet(Rdd, 1)\n",
    "    Rdd=Rdd.map(lambda datum : (0, datum[1]))\n",
    "    Rdd=updateDistances(Rdd, C)\n",
    "    my_cost=cost(Rdd)\n",
    "    n_iterations=int(log(my_cost))\n",
    "    for _ in range(n_iterations):\n",
    "        C_prime=Rdd.filter(lambda datum : np.random.uniform()<l*datum[1]['d2']/my_cost)\\\n",
    "                   .map(lambda datum : datum[1]['x'])\\\n",
    "                   .collect()\n",
    "        C_prime=np.array(C_prime)\n",
    "        C=np.vstack((C, C_prime))\n",
    "        Rdd=Rdd.map(lambda datum : (0, datum[1]))\n",
    "        Rdd=updateDistances(Rdd, C)\n",
    "        my_cost=cost(Rdd)\n",
    "    #erase centroids sampled more than once \n",
    "    C=np.unique(C, axis=0)\n",
    "    Rdd=Rdd.map(lambda datum: selectCluster(datum, C))\n",
    "    #compute weights of centroids (sizes of each cluster) and put them in a list whose index is same centroid index as C\n",
    "    wx=Rdd.countByKey()\n",
    "    wx=list(zip(*wx))\n",
    "    weights=np.zeros(len(C))\n",
    "    weights[[wx[0]]]=[wx[1]]"
   ]
  },
  {
   "cell_type": "code",
   "execution_count": null,
   "id": "f933090d-4b8f-4f96-89cb-581f3460e75c",
   "metadata": {},
   "outputs": [],
   "source": [
    "'''\n",
    "1: C ← sample a point uniformly at random from X\n",
    "2: while |C| < k do\n",
    "2\n",
    "3:\n",
    "Sample x ∈ X with probability dφX(x,C)\n",
    "(C)\n",
    "4:\n",
    "C ← C ∪ {x}\n",
    "5: end while\n",
    "'''\n",
    "\n",
    "\n",
    "def localPlusPlusInit(points, k):\n",
    "    C=#sample from array di punti ecc...\n",
    "#TODO: implementare kmeans++locale\n",
    "#implementare lloyds locale\n",
    "#inserirlo in parallelInit\n",
    "#Inventare test\n"
   ]
  },
  {
   "cell_type": "code",
   "execution_count": null,
   "id": "d6944442-b7d5-486f-b3ba-d1e902d091df",
   "metadata": {},
   "outputs": [],
   "source": [
    "def LocalLloyds(dataset, k, weights=None): \n",
    "    #completare"
   ]
  },
  {
   "cell_type": "code",
   "execution_count": null,
   "id": "a9e93679-862c-4675-b920-07e55158f83d",
   "metadata": {},
   "outputs": [],
   "source": [
    "arr=np.zeros(5)\n",
    "print(arr)\n",
    "tuplas=[(3,2),(4,1),(2,12)]\n",
    "untuplas=list(zip(*tuplas))\n",
    "print(untuplas)\n",
    "arr[[untuplas[0]]]=[untuplas[1]]\n",
    "print(arr)"
   ]
  },
  {
   "cell_type": "code",
   "execution_count": null,
   "id": "f2e34e99-a947-41a2-8f04-8cda37bf2e32",
   "metadata": {},
   "outputs": [],
   "source": [
    "print(naiveInitFromSet(Rdd, 14).shape)\n",
    "#print(Rdd.takeSample(False, 3)[0][1]['x'])"
   ]
  },
  {
   "cell_type": "code",
   "execution_count": null,
   "id": "8adf1d6c-bdc0-4e89-8cdc-2be886c527be",
   "metadata": {},
   "outputs": [],
   "source": [
    "%%time\n",
    "print(kMeans(Rdd, naiveInitFromSet(Rdd, 2), 10))"
   ]
  },
  {
   "cell_type": "code",
   "execution_count": null,
   "id": "73fc67f2-675e-4135-93e4-04024a34d858",
   "metadata": {},
   "outputs": [],
   "source": [
    "a=np.array([[1],[2],[3]])\n",
    "b= np.array([[4],[5],[6]])\n",
    "print(a*b)"
   ]
  },
  {
   "cell_type": "code",
   "execution_count": null,
   "id": "62424a01-70bb-4f3c-b457-acb3671acf11",
   "metadata": {},
   "outputs": [],
   "source": []
  }
 ],
 "metadata": {
  "kernelspec": {
   "display_name": "Python 3 (ipykernel)",
   "language": "python",
   "name": "python3"
  },
  "language_info": {
   "codemirror_mode": {
    "name": "ipython",
    "version": 3
   },
   "file_extension": ".py",
   "mimetype": "text/x-python",
   "name": "python",
   "nbconvert_exporter": "python",
   "pygments_lexer": "ipython3",
   "version": "3.10.12"
  }
 },
 "nbformat": 4,
 "nbformat_minor": 5
}
