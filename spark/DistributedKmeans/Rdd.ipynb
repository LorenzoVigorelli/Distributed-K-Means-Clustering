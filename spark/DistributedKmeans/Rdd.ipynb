{
 "cells": [
  {
   "cell_type": "code",
   "execution_count": 3,
   "id": "a2aa7880-a136-4006-afd6-b746f7c5771a",
   "metadata": {},
   "outputs": [
    {
     "data": {
      "text/plain": [
       "CompletedProcess(args=\"ssh slave2 'cd /usr/local/spark/work/; rm -r ./*'\", returncode=0)"
      ]
     },
     "execution_count": 3,
     "metadata": {},
     "output_type": "execute_result"
    }
   ],
   "source": [
    "import subprocess\n",
    "subprocess.run(\"ssh slave2 'cd /usr/local/spark/work/; rm -r ./*'\", shell=True)"
   ]
  },
  {
   "cell_type": "code",
   "execution_count": null,
   "id": "da7e8eb3-eb57-41ea-b462-43948872880c",
   "metadata": {},
   "outputs": [],
   "source": []
  },
  {
   "cell_type": "code",
   "execution_count": null,
   "id": "93f8dd00-03dc-4f0e-b4ee-27e1e80e2c4a",
   "metadata": {},
   "outputs": [],
   "source": []
  },
  {
   "cell_type": "code",
   "execution_count": 1,
   "id": "2afb19f6-1725-4f2f-9eec-921b63ad73ac",
   "metadata": {},
   "outputs": [],
   "source": [
    "from sklearn.datasets import fetch_kddcup99\n",
    "import numpy as np\n",
    "import matplotlib.pyplot as plt\n",
    "import pandas as pd"
   ]
  },
  {
   "cell_type": "code",
   "execution_count": 2,
   "id": "2c0ecba7-bc20-4d0f-90a2-5718b7dc51f5",
   "metadata": {},
   "outputs": [],
   "source": [
    "# pip install scikit-learn"
   ]
  },
  {
   "cell_type": "markdown",
   "id": "caab8ad2-235d-458a-93a7-e3d0d929b604",
   "metadata": {},
   "source": [
    "### Brief section of LOCAL K-Means (and related) functions:"
   ]
  },
  {
   "cell_type": "code",
   "execution_count": 3,
   "id": "4de00fb2-8b85-4bc3-9ff8-db9397b4678c",
   "metadata": {},
   "outputs": [],
   "source": [
    "def localPlusPlusInit(points, k): \n",
    "    #print('pointsshape: ', points.shape)\n",
    "    '''\n",
    "    points is a numpy array (n,dim)\n",
    "    '''\n",
    "    C=points[np.random.choice(points.shape[0])]#sample from array di punti ecc...\n",
    "    C=C[np.newaxis, :]\n",
    "    for _ in range(k):\n",
    "        #points is array (n, dim), C is array(g<=k, dim)\n",
    "        #probs is array (n,1)\n",
    "        probs=np.min(np.sum((points[:,:,np.newaxis]-C.T[np.newaxis,:,:])**2, axis=1), axis=1).flatten()\n",
    "        #probs=[min([sum((point-centroid)**2) for centroid in C]) for point in points] #numpyfy this, or numbafy if left base python\n",
    "        probs=probs/np.sum(probs)\n",
    "        nextCentroid=points[np.random.choice(points.shape[0], p=probs)][np.newaxis,:]\n",
    "        #print('LE FORME',C.shape, nextCentroid.shape)\n",
    "        C=np.vstack((C, nextCentroid))\n",
    "    return C\n",
    "#Inventare test"
   ]
  },
  {
   "cell_type": "code",
   "execution_count": 4,
   "id": "812a3972-be43-4a03-911d-143a4a605c14",
   "metadata": {},
   "outputs": [],
   "source": [
    "# Function to compute weighted average, given \n",
    "def weightedAverage(group):\n",
    "    weight_column='weights'\n",
    "    groupby_column='clusterId'\n",
    "    columns_to_average = group.columns.difference([weight_column, groupby_column])\n",
    "    weighted_averages = group[columns_to_average].multiply(group[weight_column], axis=0).sum() / group[weight_column].sum()\n",
    "    return weighted_averages\n",
    "def localLloyds(points, k, weights=None, n_iterations=100):\n",
    "    df=pd.DataFrame(points)\n",
    "    if weights is None:\n",
    "        weights=np.ones(shape=len(points))\n",
    "    #print('weights', weights)\n",
    "    df['weights']=weights\n",
    "    df['clusterId']=np.zeros(shape=len(points))\n",
    "    C=localPlusPlusInit(points, k)\n",
    "    #print('localPlusPluisInit: ', C)\n",
    "    clusterId=np.argmin(np.sum((points[:,:,np.newaxis]-C.T[np.newaxis,:,:])**2, axis=1), axis=1)\n",
    "    for iteration in range(n_iterations):\n",
    "        df['clusterId']=clusterId\n",
    "        C_df=df.groupby('clusterId')\\\n",
    "            .apply(weightedAverage)\\\n",
    "            .reset_index()\n",
    "        C_array=C_df[C_df.columns.difference(['weights', 'clusterId'])].reset_index(drop=True).to_numpy()\n",
    "        clusterId=np.argmin(np.sum((points[:,:,np.newaxis]-C_array.T[np.newaxis,:,:])**2, axis=1), axis=1)\n",
    "        #print(clusterId)\n",
    "        \n",
    "    return C_array   "
   ]
  },
  {
   "cell_type": "markdown",
   "id": "f0a603fc-617f-40fb-abcb-219db96ecc74",
   "metadata": {},
   "source": [
    "### Beginning of the PARALLELIZED section"
   ]
  },
  {
   "cell_type": "code",
   "execution_count": 5,
   "id": "5641b626-9c40-4152-9ea7-bc4c66ed3f26",
   "metadata": {},
   "outputs": [
    {
     "name": "stderr",
     "output_type": "stream",
     "text": [
      "Setting default log level to \"WARN\".\n",
      "To adjust logging level use sc.setLogLevel(newLevel). For SparkR, use setLogLevel(newLevel).\n",
      "24/07/03 15:54:21 WARN NativeCodeLoader: Unable to load native-hadoop library for your platform... using builtin-java classes where applicable\n"
     ]
    }
   ],
   "source": [
    "# import the python libraries to create/connect to a Spark Session\n",
    "from pyspark.sql import SparkSession\n",
    "\n",
    "# build a SparkSession \n",
    "#   connect to the master node on the port where the master node is listening (7077)\n",
    "#   declare the app name \n",
    "#   configure the executor memory to 512 MB\n",
    "#   either *connect* or *create* a new Spark Context\n",
    "spark = SparkSession.builder \\\n",
    "    .master(\"spark://spark-master:7077\")\\\n",
    "    .appName(\"My first spark application\")\\\n",
    "    .config(\"spark.executor.memory\", \"512m\")\\\n",
    "    .getOrCreate()"
   ]
  },
  {
   "cell_type": "code",
   "execution_count": 6,
   "id": "9175c645-8567-44a5-941f-4400f6653aa8",
   "metadata": {},
   "outputs": [],
   "source": [
    "# create a spark context\n",
    "sc = spark.sparkContext"
   ]
  },
  {
   "cell_type": "code",
   "execution_count": 7,
   "id": "698c10ce-f6c7-4e20-8c8b-6f168ce174c2",
   "metadata": {},
   "outputs": [],
   "source": [
    "data = fetch_kddcup99(return_X_y = True)"
   ]
  },
  {
   "cell_type": "code",
   "execution_count": 8,
   "id": "2c62d557-ce56-41e5-8b7e-3116d5b19298",
   "metadata": {},
   "outputs": [
    {
     "data": {
      "text/plain": [
       "494021"
      ]
     },
     "execution_count": 8,
     "metadata": {},
     "output_type": "execute_result"
    }
   ],
   "source": [
    "len(data[0])"
   ]
  },
  {
   "cell_type": "code",
   "execution_count": 9,
   "id": "a7575636-ba64-4555-b6eb-ef9ec4e5a93d",
   "metadata": {},
   "outputs": [],
   "source": [
    "x= data[0]\n",
    "x = x[:, 4:]"
   ]
  },
  {
   "cell_type": "code",
   "execution_count": 10,
   "id": "fb2630b1-2e1f-4031-9fc7-96aea6df3616",
   "metadata": {},
   "outputs": [
    {
     "name": "stdout",
     "output_type": "stream",
     "text": [
      "(494021, 37)\n"
     ]
    }
   ],
   "source": [
    "print(x.shape)"
   ]
  },
  {
   "cell_type": "code",
   "execution_count": 11,
   "id": "fb620baf-67b0-403d-9b9e-795c5d8f1e7e",
   "metadata": {},
   "outputs": [],
   "source": [
    "y = data[1] "
   ]
  },
  {
   "cell_type": "code",
   "execution_count": 52,
   "id": "e98096bc-9203-479c-a863-f50bd1a33d29",
   "metadata": {},
   "outputs": [],
   "source": [
    "#Let's define a map from Y (set of strings) into (0,size(Y)) for easier usage\n",
    "def labelToInt(label):\n",
    "    uniqueLabels=list(np.unique(y))\n",
    "    return uniqueLabels.index(label)"
   ]
  },
  {
   "cell_type": "code",
   "execution_count": 13,
   "id": "908130ab-3ac8-4ab8-92a5-200c8de6f425",
   "metadata": {},
   "outputs": [],
   "source": [
    "#We now shuffle the data array to have more varied labels\n",
    "shuffled_indices = np.random.permutation(len(x))\n",
    "x=x[shuffled_indices]\n",
    "y=y[shuffled_indices]"
   ]
  },
  {
   "cell_type": "code",
   "execution_count": 14,
   "id": "9a0bfaef-8d39-4445-a4b6-3f92f8f1d8b7",
   "metadata": {},
   "outputs": [],
   "source": [
    "# to delete later on\n",
    "subLen = 1000\n",
    "x = x[:subLen,]\n",
    "y = y[:subLen]"
   ]
  },
  {
   "cell_type": "code",
   "execution_count": 15,
   "id": "43dd0f0d-2dfa-459a-8df3-f842e17942cc",
   "metadata": {},
   "outputs": [
    {
     "name": "stdout",
     "output_type": "stream",
     "text": [
      "117\n",
      "127\n",
      "1\n",
      "3\n",
      "1\n",
      "2\n",
      "1\n",
      "2\n",
      "2\n",
      "1\n",
      "1\n",
      "2\n",
      "1\n",
      "1\n",
      "2\n",
      "1\n",
      "1\n",
      "1\n",
      "184\n",
      "74\n",
      "3\n",
      "3\n",
      "4\n",
      "6\n",
      "21\n",
      "11\n",
      "31\n",
      "71\n",
      "73\n",
      "44\n",
      "32\n",
      "32\n",
      "20\n",
      "6\n",
      "4\n",
      "11\n",
      "16\n"
     ]
    }
   ],
   "source": [
    "for i in range (x.shape[1]):\n",
    "    print(len(np.unique(x[:, i])))\n",
    "    \n"
   ]
  },
  {
   "cell_type": "code",
   "execution_count": 16,
   "id": "6e190749-5eda-4ce0-a0e2-9f165ff03243",
   "metadata": {},
   "outputs": [
    {
     "data": {
      "text/plain": [
       "[<matplotlib.lines.Line2D at 0x7f6b7d634110>]"
      ]
     },
     "execution_count": 16,
     "metadata": {},
     "output_type": "execute_result"
    },
    {
     "data": {
      "image/png": "[encoded data removed]",
      "text/plain": [
       "<Figure size 640x480 with 1 Axes>"
      ]
     },
     "metadata": {},
     "output_type": "display_data"
    }
   ],
   "source": [
    "plt.plot(x[:,1])"
   ]
  },
  {
   "cell_type": "code",
   "execution_count": 17,
   "id": "de257940-5b4f-4203-a31a-f19916d8739a",
   "metadata": {},
   "outputs": [
    {
     "name": "stdout",
     "output_type": "stream",
     "text": [
      "9\n"
     ]
    }
   ],
   "source": [
    "kTarget = len(set(y))\n",
    "nSamples = x.shape[0]\n",
    "print(kTarget)"
   ]
  },
  {
   "cell_type": "code",
   "execution_count": 18,
   "id": "c242d0d4-6706-4923-88f1-a9bb6478eedb",
   "metadata": {},
   "outputs": [
    {
     "name": "stderr",
     "output_type": "stream",
     "text": [
      "[Stage 0:>                                                          (0 + 1) / 2]\r"
     ]
    },
    {
     "name": "stdout",
     "output_type": "stream",
     "text": [
      "(37,)\n"
     ]
    },
    {
     "name": "stderr",
     "output_type": "stream",
     "text": [
      "                                                                                \r"
     ]
    }
   ],
   "source": [
    "nSlice = None\n",
    "Rdd = sc.parallelize([(None, {\"x\": x[i],\"y\": y[i], \"d2\":None}) for i in range(nSamples)], numSlices = nSlice)\n",
    "# add persist later on\n",
    "print(Rdd.takeSample(False, 3)[0][1]['x'].shape)"
   ]
  },
  {
   "cell_type": "code",
   "execution_count": 19,
   "id": "04139211-7061-4167-ad02-4e3d8b921581",
   "metadata": {},
   "outputs": [
    {
     "data": {
      "text/plain": [
       "2"
      ]
     },
     "execution_count": 19,
     "metadata": {},
     "output_type": "execute_result"
    }
   ],
   "source": [
    "Rdd.getNumPartitions() # check partitions"
   ]
  },
  {
   "cell_type": "code",
   "execution_count": 20,
   "id": "fcc27386-2a0b-4ab5-9a2b-01058690acbc",
   "metadata": {},
   "outputs": [],
   "source": [
    "def minmaxRescale(datum, minS, maxS):\n",
    "    mask = (minS < maxS).astype(bool)\n",
    "    feature = datum[1][\"x\"] \n",
    "    feature = (feature[mask] - minS[mask])/(maxS[mask] - minS[mask])\n",
    "    return (datum[0], {\"x\": feature, \"y\": datum[1][\"y\"], \"d2\":datum[1][\"d2\"]})   \n",
    "\n"
   ]
  },
  {
   "cell_type": "code",
   "execution_count": 21,
   "id": "37bbf8ad-360b-4aa9-8302-3e33aa824b52",
   "metadata": {},
   "outputs": [
    {
     "name": "stdout",
     "output_type": "stream",
     "text": [
      "(37,)\n",
      "[ True  True False  True False  True False  True  True False False  True\n",
      " False False  True False False False  True  True  True  True  True  True\n",
      "  True  True  True  True  True  True  True  True  True  True  True  True\n",
      "  True]\n",
      "CPU times: user 4.42 ms, sys: 5.33 ms, total: 9.75 ms\n",
      "Wall time: 405 ms\n"
     ]
    }
   ],
   "source": [
    "%%time\n",
    "maxS = Rdd.map(lambda datum: datum[1][\"x\"])\\\n",
    "           .reduce(lambda a, b: np.maximum(a, b))\n",
    "minS = Rdd.map(lambda datum: datum[1][\"x\"])\\\n",
    "           .reduce(lambda a, b: np.minimum(a, b))\n",
    "\n",
    "print(maxS.shape)\n",
    "print((minS < maxS).astype(bool))"
   ]
  },
  {
   "cell_type": "code",
   "execution_count": 22,
   "id": "c93d861c-b61f-47a8-8b86-a899e0b6ba64",
   "metadata": {},
   "outputs": [
    {
     "name": "stdout",
     "output_type": "stream",
     "text": [
      "[2 3 5]\n"
     ]
    }
   ],
   "source": [
    "a,b=np.array([1,3,5]), np.array([2,1,5])\n",
    "print(np.maximum(a,b))"
   ]
  },
  {
   "cell_type": "code",
   "execution_count": 23,
   "id": "6cc0b3b2-3b22-4018-9573-dd125c4f8f17",
   "metadata": {},
   "outputs": [
    {
     "name": "stdout",
     "output_type": "stream",
     "text": [
      "(0, 54540) (0, 5153771) (0, 0) (0, 3) (0, 0) (0, 2) (0, 0) (0, 1) (0, 1) (0, 0) (0, 0) (0, 1) (0, 0) (0, 0) (0, 1) (0, 0) (0, 0) (0, 0) (1, 511) (1, 511) (0.0, 1.0) (0.0, 1.0) (0.0, 1.0) (0.0, 1.0) (0.0, 1.0) (0.0, 1.0) (0.0, 1.0) (1, 255) (1, 255) (0.0, 1.0) (0.0, 1.0) (0.0, 1.0) (0.0, 1.0) (0.0, 1.0) (0.0, 1.0) (0.0, 1.0) (0.0, 1.0)\n",
      "(37,)\n"
     ]
    }
   ],
   "source": [
    "print(*zip(minS, maxS))\n",
    "print((minS < maxS).astype(bool).shape)"
   ]
  },
  {
   "cell_type": "code",
   "execution_count": 24,
   "id": "5c47ef63-f36f-4e96-adb7-80422ebb9cbc",
   "metadata": {},
   "outputs": [],
   "source": [
    "#### fix ####\n",
    "# %%time\n",
    "# results = Rdd.map(lambda datum: datum[\"x\"])\\\n",
    "#               .reduce(lambda a, b: (np.maximum(a[0], b[0]), np.minimum(a[1], b[1]))"
   ]
  },
  {
   "cell_type": "code",
   "execution_count": 25,
   "id": "92b06aaa-8ef9-4e41-b42b-c72bea381ae1",
   "metadata": {},
   "outputs": [
    {
     "name": "stdout",
     "output_type": "stream",
     "text": [
      "(27,)\n"
     ]
    }
   ],
   "source": [
    "Rdd = Rdd.map(lambda datum: minmaxRescale(datum, minS, maxS))\n",
    "print(Rdd.takeSample(False, 3)[0][1]['x'].shape)\n"
   ]
  },
  {
   "cell_type": "code",
   "execution_count": 26,
   "id": "35397a12-f95d-4f61-ba39-4384d0268142",
   "metadata": {},
   "outputs": [
    {
     "name": "stdout",
     "output_type": "stream",
     "text": [
      "(None, {'x': array([0.009534286762009535, 0.0, 0.0, 0.0, 0.0, 0.0, 0.0, 0.0, 1.0, 1.0,\n",
      "       0.0, 0.0, 0.0, 0.0, 1.0, 0.0, 0.0, 1.0, 1.0, 1.0, 0.0, 1.0, 0.0,\n",
      "       0.0, 0.0, 0.0, 0.0], dtype=object), 'y': b'smurf.', 'd2': None})\n"
     ]
    }
   ],
   "source": [
    "local_datum=Rdd.takeSample(False, 3)[0]\n",
    "print(local_datum)"
   ]
  },
  {
   "cell_type": "code",
   "execution_count": 27,
   "id": "26516cee-cd3a-4708-b4d4-6d42d418d2f7",
   "metadata": {},
   "outputs": [],
   "source": [
    "def selectCluster(datum, C, updateDistances=True):\n",
    "    \"\"\"\n",
    "    dimC(k, len(datum))\n",
    "    \"\"\"\n",
    "    distances = np.sum((datum[1][\"x\"] - C)**2, axis=1)\n",
    "    print('distances: ',distances)\n",
    "    clusterId = np.argmin(distances)\n",
    "    if updateDistances is True:\n",
    "        return (clusterId, {'x':datum[1]['x'], 'y':datum[1]['y'], 'd2':distances[clusterId]})\n",
    "    else:\n",
    "        return (clusterId, datum[1])"
   ]
  },
  {
   "cell_type": "code",
   "execution_count": 28,
   "id": "532ba72f-e0fc-4714-b00c-daea23dd5ed6",
   "metadata": {},
   "outputs": [
    {
     "data": {
      "text/plain": [
       "\"\\nC_init=naiveInitFromSpace(14, len(local_datum[1]['x']))\\nprint(C_init.shape)\\n\""
      ]
     },
     "execution_count": 28,
     "metadata": {},
     "output_type": "execute_result"
    }
   ],
   "source": [
    "'''\n",
    "C_init=naiveInitFromSpace(14, len(local_datum[1]['x']))\n",
    "print(C_init.shape)\n",
    "'''"
   ]
  },
  {
   "cell_type": "code",
   "execution_count": 29,
   "id": "6b7584aa-92fe-4d3c-a7a8-80c166ed0230",
   "metadata": {},
   "outputs": [
    {
     "data": {
      "text/plain": [
       "'\\nC_init=[el for el in C_init]\\nprint(selectCluster(local_datum, C_init))\\n'"
      ]
     },
     "execution_count": 29,
     "metadata": {},
     "output_type": "execute_result"
    }
   ],
   "source": [
    "'''\n",
    "C_init=[el for el in C_init]\n",
    "print(selectCluster(local_datum, C_init))\n",
    "'''"
   ]
  },
  {
   "cell_type": "code",
   "execution_count": 30,
   "id": "e7c9b98a-944e-4b8f-a52a-095a0ba98025",
   "metadata": {},
   "outputs": [],
   "source": [
    "#update centroids as 'centers of mass' of clusters\n",
    "def updateCentroids(Rdd):\n",
    "    C=Rdd.mapValues(lambda xy: (xy['x'], 1))\\\n",
    "              .reduceByKey(lambda a,b : (a[0]+b[0], a[1]+b[1]))\\\n",
    "              .mapValues(lambda a:a[0]/a[1])\\\n",
    "              .values()\\\n",
    "              .collect() \n",
    "    C=np.array(C) #check later more carefully if causes some overhead\n",
    "    return C\n"
   ]
  },
  {
   "cell_type": "code",
   "execution_count": 31,
   "id": "06ecbe51-fcb3-425b-879f-c88eade0ba40",
   "metadata": {},
   "outputs": [],
   "source": [
    "#lets assume entry of xy dictionary to be distance of point from its centroid\n",
    "# ADD IF NOT TIME CONSUMING d ENTRY IN XY DICTIONARY FOR CONSISTENCY\n",
    "\n",
    "#update the Rdd with square distances from centroids, given Rdd with centroids already updated \n",
    "def updateDistances(Rdd, C):\n",
    "    def datumUpdate(datum, C):\n",
    "        d2=np.sum((datum[1]['x']-C[datum[0]])**2)\n",
    "        #return datum\n",
    "        return (datum[0], {\"x\": datum[1][\"x\"], \"y\": datum[1][\"y\"], \"d2\":d2})\n",
    "    Rdd=Rdd.map(lambda datum:datumUpdate(datum, C))\n",
    "    return Rdd\n",
    "#calculate global cost of X,C from an Rdd with distances from centroids already updated\n",
    "def cost(Rdd):\n",
    "    my_cost=Rdd.map(lambda datum : datum[1]['d2'])\\\n",
    "       .reduce(lambda a,b: a+b)\n",
    "    return my_cost "
   ]
  },
  {
   "cell_type": "code",
   "execution_count": 32,
   "id": "052f2cf7-5da9-4528-86f5-9e69617aa3b6",
   "metadata": {},
   "outputs": [],
   "source": [
    "#updateDistances(Rdd, Rdd.takeSample(False, 1)[0][1]['x']).takeSample(False, 10)"
   ]
  },
  {
   "cell_type": "code",
   "execution_count": 33,
   "id": "74cf24af-9265-4979-9e8c-f89f4ab74e7a",
   "metadata": {},
   "outputs": [],
   "source": [
    "my_kMeansCosts=[]\n",
    "def kMeans(Rdd, C_init, maxIterations):\n",
    "    C=C_init\n",
    "    for t in range(maxIterations):\n",
    "        Rdd = Rdd.map(lambda datum: selectCluster(datum, C))\n",
    "        my_kMeansCosts.append(cost(Rdd))\n",
    "        # Now we compute the new centroids by calculating the averages of points belonging to the same cluster.\n",
    "        # Need to check that all centroids are assigned to at least one point, otherwise k changes!!! Solutions?!\n",
    "        C=updateCentroids(Rdd)\n",
    "    return C"
   ]
  },
  {
   "cell_type": "markdown",
   "id": "ae7525f0-2f49-48da-8254-6db652b7337a",
   "metadata": {},
   "source": [
    "Different initialization functions"
   ]
  },
  {
   "cell_type": "code",
   "execution_count": 34,
   "id": "80f4e846-7363-4be0-b3c8-0801a87783f1",
   "metadata": {},
   "outputs": [],
   "source": [
    "def naiveInitFromSet(Rdd, k):\n",
    "    #uniform sampling of k points from Rdd\n",
    "    kSubset=Rdd.takeSample(False, k)\n",
    "    # Replacement is set to False to avoid coinciding centroids BUT no guarantees that in the original dataset all points are distinct!!! Check if causes problems in the algorithm (i.e. need to pre-filter) or it's ok\n",
    "    C_init=np.array([datum[1]['x'] for datum in kSubset])\n",
    "    return C_init\n",
    "def naiveInitFromSpace(k, dim):\n",
    "    #uniform drawing of k points from euclidean space\n",
    "    #we assume the Rdd has been mapped into a [0,1]^dim space\n",
    "    C_init=np.random.uniform(size=(k,dim))\n",
    "    return C_init"
   ]
  },
  {
   "cell_type": "code",
   "execution_count": 35,
   "id": "c4ef6f9d-0e3e-45de-897c-63100f949315",
   "metadata": {},
   "outputs": [],
   "source": [
    "'''\n",
    "1: C ← sample a point uniformly at random from X\n",
    "2: ψ ← φX (C)\n",
    "3: for O(log ψ) times do\n",
    "4:\n",
    "C 0 ← sample each point x ∈ X independently with\n",
    "2\n",
    "(x,C)\n",
    "probability px = `·d\n",
    "φX (C)\n",
    "0\n",
    "5:\n",
    "C ←C∪C\n",
    "6: end for\n",
    "7: For x ∈ C, set wx to be the number of points in X closer\n",
    "to x than any other point in C\n",
    "8: Recluster the weighted points in C into k clusters\n",
    "'''\n",
    "my_parallelInitCosts=[]\n",
    "my_Cs=[]\n",
    "my_populations=[]\n",
    "my_takes=[]\n",
    "my_distances=[]\n",
    "def parallelInit(Rdd, k, l):\n",
    "    C=naiveInitFromSet(Rdd, 1)\n",
    "    Rdd=Rdd.map(lambda datum : (0, datum[1]))\n",
    "    Rdd=updateDistances(Rdd, C)\n",
    "    my_cost=cost(Rdd)\n",
    "    n_iterations=int(np.log(my_cost))\n",
    "    if(n_iterations<1):\n",
    "        n_iterations=1\n",
    "    for _ in range(n_iterations):\n",
    "        my_parallelInitCosts.append(my_cost)\n",
    "        \n",
    "        #my_takes.append(Rdd.take(3))\n",
    "        \n",
    "        C_prime=Rdd.filter(lambda datum : np.random.uniform()<l*datum[1]['d2']/my_cost)\\\n",
    "                   .map(lambda datum : datum[1]['x'])\\\n",
    "                   .collect()\n",
    "        C_prime=np.array(C_prime)\n",
    "        if (C_prime.shape[0]>0):\n",
    "            C=np.vstack((C, C_prime))\n",
    "            #Rdd=Rdd.map(lambda datum : (0, datum[1]))\n",
    "            Rdd=Rdd.map(lambda datum: selectCluster(datum, C))\n",
    "            #my_Cs.append(C)\n",
    "            #my_populations.append((list(Rdd.countByKey().keys()),list(Rdd.countByKey().values())))\n",
    "            #Rdd=updateDistances(Rdd, C).persist()\n",
    "            #my_distances.append(Rdd.map(lambda datum:datum[1]['d2']).collect())\n",
    "            my_cost=cost(Rdd)\n",
    "    #erase centroids sampled more than once \n",
    "    C=C.astype(float)\n",
    "    #print('original',C)\n",
    "    C=np.unique(C, axis=0)\n",
    "    #print('unique',C)\n",
    "    Rdd=Rdd.map(lambda datum: selectCluster(datum, C))\n",
    "    #compute weights of centroids (sizes of each cluster) and put them in a list whose index is same centroid index as C\n",
    "    wx=Rdd.countByKey()\n",
    "    #print('dict',dict(wx))\n",
    "    #print('*wx',*wx)\n",
    "    #print('zip(*wx)',zip(*wx))\n",
    "    #print('list',list(zip(*wx)))\n",
    "    #wx=list(zip(*wx))\n",
    "    #print(list(wx.keys()), list(wx.values()))\n",
    "    weights=np.zeros(len(C))\n",
    "    weights[[list(wx.keys())]]=[list(wx.values())]\n",
    "    #subselection of k centroids from C, using local Lloyds algorithm with k-means++ initialization\n",
    "    if C.shape[0]<=k:\n",
    "        C_init=C\n",
    "    else:\n",
    "        C_init=localLloyds(C, k, weights=weights, n_iterations=100)\n",
    "    return C_init\n",
    "    "
   ]
  },
  {
   "cell_type": "code",
   "execution_count": 36,
   "id": "a9e93679-862c-4675-b920-07e55158f83d",
   "metadata": {},
   "outputs": [
    {
     "name": "stdout",
     "output_type": "stream",
     "text": [
      "[0. 0. 0. 0. 0.]\n",
      "[(3, 4, 2), (2, 1, 12)]\n",
      "[ 0.  0. 12.  2.  1.]\n"
     ]
    }
   ],
   "source": [
    "arr=np.zeros(5)\n",
    "print(arr)\n",
    "tuplas=[(3,2),(4,1),(2,12)]\n",
    "untuplas=list(zip(*tuplas))\n",
    "print(untuplas)\n",
    "arr[[untuplas[0]]]=[untuplas[1]]\n",
    "print(arr)"
   ]
  },
  {
   "cell_type": "code",
   "execution_count": 37,
   "id": "f2e34e99-a947-41a2-8f04-8cda37bf2e32",
   "metadata": {},
   "outputs": [],
   "source": [
    "#print(naiveInitFromSet(Rdd, 14).shape)\n",
    "#print(Rdd.takeSample(False, 3)[0][1]['x'])"
   ]
  },
  {
   "cell_type": "code",
   "execution_count": 38,
   "id": "8adf1d6c-bdc0-4e89-8cdc-2be886c527be",
   "metadata": {},
   "outputs": [
    {
     "name": "stderr",
     "output_type": "stream",
     "text": [
      "[Stage 69:=============================>                            (1 + 1) / 2]\r"
     ]
    },
    {
     "name": "stdout",
     "output_type": "stream",
     "text": [
      "CPU times: user 1.01 s, sys: 57.3 ms, total: 1.07 s\n",
      "Wall time: 48.1 s\n"
     ]
    },
    {
     "name": "stderr",
     "output_type": "stream",
     "text": [
      "                                                                                \r"
     ]
    }
   ],
   "source": [
    "%%time\n",
    "k=kTarget\n",
    "l=kTarget*2\n",
    "#print(kMeans(Rdd, naiveInitFromSet(Rdd, 2), 10))\n",
    "C_predicted=kMeans(Rdd, parallelInit(Rdd, k, l), 15)\n",
    "Rdd=Rdd.map(lambda datum: selectCluster(datum, C_predicted))"
   ]
  },
  {
   "cell_type": "code",
   "execution_count": 39,
   "id": "73fc67f2-675e-4135-93e4-04024a34d858",
   "metadata": {},
   "outputs": [
    {
     "name": "stdout",
     "output_type": "stream",
     "text": [
      "<class 'numpy.ndarray'> (4, 4)\n",
      "[[1 2 3 1]\n",
      " [4 5 6 4]\n",
      " [9 8 7 9]]\n"
     ]
    }
   ],
   "source": [
    "'''\n",
    "a=np.array([[1],[2],[3]])\n",
    "b= np.array([[4],[5],[6]])\n",
    "print(a*b)\n",
    "'''\n",
    "D=np.array([[1,2,3,1],[1,2,3,1],[4,5,6,4],[9,8,7,9]])\n",
    "print(type(D), D.shape)\n",
    "print(np.unique(D, axis=0))"
   ]
  },
  {
   "cell_type": "code",
   "execution_count": 40,
   "id": "11c5423d-ed9b-4b10-ae89-0d0f741d08bf",
   "metadata": {},
   "outputs": [
    {
     "name": "stdout",
     "output_type": "stream",
     "text": [
      "costs [2765.8556627746616, 161.52089638847679, 42.92502297601386, 19.744430220783535, 7.309005266580094, 3.704583008776641, 1.2234476911250725]\n",
      "7\n"
     ]
    },
    {
     "data": {
      "image/png": "[encoded data removed]",
      "text/plain": [
       "<Figure size 640x480 with 1 Axes>"
      ]
     },
     "metadata": {},
     "output_type": "display_data"
    },
    {
     "data": {
      "image/png": "[encoded data removed]",
      "text/plain": [
       "<Figure size 640x480 with 1 Axes>"
      ]
     },
     "metadata": {},
     "output_type": "display_data"
    },
    {
     "data": {
      "text/plain": [
       "'\\nfor dist in my_distances:\\n    #print(dist)\\n    plt.plot(dist)\\n    plt.show()\\n'"
      ]
     },
     "execution_count": 40,
     "metadata": {},
     "output_type": "execute_result"
    }
   ],
   "source": [
    "print('costs',my_parallelInitCosts)\n",
    "print(len(my_parallelInitCosts))\n",
    "plt.plot(my_parallelInitCosts)\n",
    "plt.show()\n",
    "plt.plot(my_kMeansCosts)\n",
    "plt.show()\n",
    "for C in my_Cs:\n",
    "    print(C.shape)\n",
    "    '''\n",
    "    for point in C:\n",
    "        plt.bar(np.arange(len(point)), point)\n",
    "    plt.show()\n",
    "    '''\n",
    "#print('costfromdistsum: ', sum(my_distances[0]))\n",
    "for pop in my_populations:\n",
    "    print(pop)\n",
    "'''\n",
    "for dist in my_distances:\n",
    "    #print(dist)\n",
    "    plt.plot(dist)\n",
    "    plt.show()\n",
    "''' "
   ]
  },
  {
   "cell_type": "markdown",
   "id": "bab94118-20c5-4c51-8bfa-e1499b74c372",
   "metadata": {},
   "source": [
    "### Now we want to test the agreement between expected cluster labels \"y\" and resulted labels clusterId"
   ]
  },
  {
   "cell_type": "code",
   "execution_count": 86,
   "id": "b5cedec4-8ae5-4bb8-83f8-ff6ac76c91a3",
   "metadata": {},
   "outputs": [
    {
     "name": "stderr",
     "output_type": "stream",
     "text": [
      "[Stage 121:============================>                            (1 + 1) / 2]\r"
     ]
    },
    {
     "name": "stdout",
     "output_type": "stream",
     "text": [
      "[(6, {'x': array([0.009534286762009535, 0.0, 0.0, 0.0, 0.0, 0.0, 0.0, 0.0, 1.0, 1.0,\n",
      "       0.0, 0.0, 0.0, 0.0, 1.0, 0.0, 0.0, 1.0, 1.0, 1.0, 0.0, 1.0, 0.0,\n",
      "       0.0, 0.0, 0.0, 0.0], dtype=object), 'y': b'smurf.', 'd2': 3.8386647365059328}), (2, {'x': array([0.0, 0.0, 0.0, 0.0, 0.0, 0.0, 0.0, 0.0, 0.4372549019607843,\n",
      "       0.021568627450980392, 1.0, 1.0, 0.0, 0.0, 0.05, 0.06, 0.0, 1.0,\n",
      "       0.04330708661417323, 0.05, 0.06, 0.0, 0.0, 1.0, 1.0, 0.0, 0.0],\n",
      "      dtype=object), 'y': b'neptune.', 'd2': 8.919118385501514}), (2, {'x': array([0.0, 0.0, 0.0, 0.0, 0.0, 0.0, 0.0, 0.0, 0.2627450980392157,\n",
      "       0.0058823529411764705, 1.0, 1.0, 0.0, 0.0, 0.03, 0.06, 0.0, 1.0,\n",
      "       0.05511811023622047, 0.06, 0.07, 0.0, 0.0, 1.0, 1.0, 0.0, 0.0],\n",
      "      dtype=object), 'y': b'neptune.', 'd2': 8.817470419421422}), (3, {'x': array([0.003942060872753942, 0.0016341432322080278, 0.0, 0.0, 1.0, 0.0,\n",
      "       0.0, 0.0, 0.01568627450980392, 0.01764705882352941, 0.0, 0.0, 0.0,\n",
      "       0.0, 1.0, 0.0, 0.2, 1.0, 1.0, 1.0, 0.0, 0.0, 0.0, 0.0, 0.0, 0.0,\n",
      "       0.0], dtype=object), 'y': b'normal.', 'd2': 3.0814397667044093}), (6, {'x': array([0.01892189218921892, 0.0, 0.0, 0.0, 0.0, 0.0, 0.0, 0.0, 1.0, 1.0,\n",
      "       0.0, 0.0, 0.0, 0.0, 1.0, 0.0, 0.0, 1.0, 1.0, 1.0, 0.0, 1.0, 0.0,\n",
      "       0.0, 0.0, 0.0, 0.0], dtype=object), 'y': b'smurf.', 'd2': 3.8389273966797854}), (2, {'x': array([0.0, 0.0, 0.0, 0.0, 0.0, 0.0, 0.0, 0.0, 0.4470588235294118,\n",
      "       0.013725490196078431, 0.0, 0.0, 1.0, 1.0, 0.03, 0.07, 0.0, 1.0,\n",
      "       0.027559055118110236, 0.03, 0.09, 0.0, 0.0, 0.0, 0.0, 1.0, 1.0],\n",
      "      dtype=object), 'y': b'neptune.', 'd2': 9.010359311795286}), (3, {'x': array([0.0037587092042537587, 0.00020489851023648508, 0.0, 0.0, 1.0, 0.0,\n",
      "       0.0, 0.0, 0.00980392156862745, 0.00980392156862745, 0.0, 0.0, 0.0,\n",
      "       0.0, 1.0, 0.0, 0.0, 0.31496062992125984, 1.0, 1.0, 0.0, 0.01, 0.05,\n",
      "       0.0, 0.0, 0.0, 0.0], dtype=object), 'y': b'normal.', 'd2': 3.355628991284196}), (6, {'x': array([0.01892189218921892, 0.0, 0.0, 0.0, 0.0, 0.0, 0.0, 0.0, 1.0, 1.0,\n",
      "       0.0, 0.0, 0.0, 0.0, 1.0, 0.0, 0.0, 1.0, 1.0, 1.0, 0.0, 1.0, 0.0,\n",
      "       0.0, 0.0, 0.0, 0.0], dtype=object), 'y': b'smurf.', 'd2': 3.8389273966797854}), (3, {'x': array([0.0, 0.0, 0.0, 0.0, 0.0, 0.0, 0.0, 0.0, 0.0, 0.00196078431372549,\n",
      "       0.0, 0.0, 1.0, 1.0, 1.0, 0.0, 1.0, 0.011811023622047244, 1.0, 1.0,\n",
      "       0.0, 0.25, 0.07, 0.0, 0.0, 1.0, 0.93], dtype=object), 'y': b'normal.', 'd2': 8.677837639951242}), (6, {'x': array([0.009534286762009535, 0.0, 0.0, 0.0, 0.0, 0.0, 0.0, 0.0,\n",
      "       0.8803921568627451, 0.8803921568627451, 0.0, 0.0, 0.0, 0.0, 1.0,\n",
      "       0.0, 0.0, 1.0, 1.0, 1.0, 0.0, 1.0, 0.0, 0.0, 0.0, 0.0, 0.0],\n",
      "      dtype=object), 'y': b'smurf.', 'd2': 3.397757393176444})]\n"
     ]
    },
    {
     "name": "stderr",
     "output_type": "stream",
     "text": [
      "                                                                                \r"
     ]
    }
   ],
   "source": [
    "expectedRdd=Rdd.map(lambda datum:(labelToInt(datum[1]['y']), datum[1])) #put y-label as clusterId\n",
    "C_expected=updateCentroids(expectedRdd) #compute centroids coordinate\n",
    "expectedRdd=updateDistances(expectedRdd, C_expected) #update and save squared distances points-centroids\n",
    "print(expectedRdd.take(10))"
   ]
  },
  {
   "cell_type": "markdown",
   "id": "1e90417a-b102-4ed6-98a2-2cc0f7a7105c",
   "metadata": {},
   "source": [
    "First, we compare the cluster populations"
   ]
  },
  {
   "cell_type": "code",
   "execution_count": null,
   "id": "74e9962b-1dcd-4613-96d0-4c2c2dc671e7",
   "metadata": {},
   "outputs": [],
   "source": [
    "predictedPopulationDict=Rdd.countByKey()\n",
    "predictedPopulationDict = dict(sorted(predictedPopulationDict.items(), key=lambda item: item[1], reverse=True))\n",
    "expectedPopulationDict=Rdd.map(lambda datum:(datum[1]['y'], datum[1])).countByKey()\n",
    "expectedPopulationDict = dict(sorted(expectedPopulationDict.items(), key=lambda item: item[1], reverse=True))\n",
    "print('predictedPopulationDict', predictedPopulationDict)\n",
    "plt.bar(np.arange(len(predictedPopulationDict)), predictedPopulationDict.values())\n",
    "plt.show()\n",
    "print('expectedPopulationDict',expectedPopulationDict)\n",
    "plt.bar(np.arange(len(expectedPopulationDict)), expectedPopulationDict.values())\n",
    "plt.show()"
   ]
  },
  {
   "cell_type": "markdown",
   "id": "b0b411e8-6cf1-423b-81ab-09f65a2399b3",
   "metadata": {},
   "source": [
    "Now we want to calculate the mean square error between expected centroids and the nearest predicted centroids"
   ]
  },
  {
   "cell_type": "markdown",
   "id": "8c7c2e4d-6cf7-42c3-869b-48a7aac5bd64",
   "metadata": {},
   "source": [
    "idea: plottare errorbars pari alle std degli expected cluster rispetto agli expected centroids e plottare sopra esso (barplot) il displacement dei predicted centroids piu vicini "
   ]
  },
  {
   "cell_type": "code",
   "execution_count": 60,
   "id": "d85dfaef-2dec-4def-aa64-63f9c0c04fc0",
   "metadata": {},
   "outputs": [],
   "source": [
    "def predictedCentroidsLabeler(C_expected, C_predicted):\n",
    "    distMatrix=np.sum((C_expected[:,:,np.newaxis]-C_predicted.T[np.newaxis, :,:])**2,axis=1)\n",
    "    #the labeler i-th entry j, tells that i-th centroid of C_expected is associated to j-th element of C_predicted\n",
    "    labeler=np.argmin(distMatrix,axis=1)\n",
    "    #square distance of element of C_expected to nearest point in C_predicted\n",
    "    distances=distMatrix[np.arange(len(distMatrix)),labeler]\n",
    "    return labeler, distances"
   ]
  },
  {
   "cell_type": "code",
   "execution_count": 61,
   "id": "b440a45b-cc26-4228-824a-8e1932292ed8",
   "metadata": {},
   "outputs": [
    {
     "name": "stdout",
     "output_type": "stream",
     "text": [
      "k_expected, k_predicted:  9 10\n",
      "labeler:  [5 0 2 9 2 6 2 1 2]\n",
      "meanSquaredError:  1.1911773222449906\n"
     ]
    }
   ],
   "source": [
    "print('k_expected, k_predicted: ', len(C_expected), len(C_predicted))\n",
    "labeler, distances=predictedCentroidsLabeler(C_expected, C_predicted)\n",
    "meanSquaredError=np.mean(distances)\n",
    "print('labeler: ', labeler)\n",
    "print('meanSquaredError: ', meanSquaredError)"
   ]
  },
  {
   "cell_type": "code",
   "execution_count": 82,
   "id": "27bb190c-0efd-4643-bc8e-410f3d5fdb76",
   "metadata": {},
   "outputs": [
    {
     "name": "stdout",
     "output_type": "stream",
     "text": [
      "[(6, 2, 8, 0, 4, 3, 1, 5, 7), (3.8131208197241238, 8.887558336400062, 3.4625306907736375, 7.4322624191366895, 0.0, 4.26419643152513, 8.201171261257366, 7.010992772719054, 6.596250802508998)]\n"
     ]
    }
   ],
   "source": [
    "#standard deviation of cluster from expected centroids\n",
    "#stdExpected=updateDistances(Rdd.map(lambda datum: (datum[1]['y'], datum[1])), C_expected).collect()\n",
    "stdExpected=expectedRdd.mapValues(lambda datum1: (datum1['d2'], 1))\\\n",
    "                        .reduceByKey(lambda a,b : (a[0]+b[0], a[1]+b[1]))\\\n",
    "                        .mapValues(lambda a:a[0]/a[1])\\\n",
    "                        .collect()\n",
    "stdExpected=list(zip(*stdExpected))\n",
    "print(stdExpected)"
   ]
  },
  {
   "cell_type": "code",
   "execution_count": 90,
   "id": "90547e56-d328-4f59-9500-e90e8432b6ef",
   "metadata": {},
   "outputs": [
    {
     "name": "stdout",
     "output_type": "stream",
     "text": [
      "[0.0 0.406836932663408 2.548430068307378 0.0715047165308817\n",
      " 2.0052855888377943 0.15789793985425019 1.9186021370076582\n",
      " 2.3372357785463707 1.2748027384571732]\n"
     ]
    },
    {
     "data": {
      "text/plain": [
       "<BarContainer object of 9 artists>"
      ]
     },
     "execution_count": 90,
     "metadata": {},
     "output_type": "execute_result"
    },
    {
     "data": {
      "image/png": "[encoded data removed]",
      "text/plain": [
       "<Figure size 640x480 with 1 Axes>"
      ]
     },
     "metadata": {},
     "output_type": "display_data"
    }
   ],
   "source": [
    "plt.errorbar(np.arange(len(C_expected)), np.zeros(shape=(len(stdExpected[0]))), stdExpected[1])\n",
    "print(distances)\n",
    "plt.bar(np.arange(len(C_expected)), distances, color='red')"
   ]
  },
  {
   "cell_type": "code",
   "execution_count": 92,
   "id": "8f496b76-74a3-4df1-b30a-2071be70a8ba",
   "metadata": {},
   "outputs": [
    {
     "name": "stdout",
     "output_type": "stream",
     "text": [
      "[0.017339007133879883 0.0 0.0 0.0 0.0 0.0 0.0 0.0 0.9930537824478709\n",
      " 0.9930472355887265 0.0 0.0 0.0 0.0 1.0 0.0 0.0 1.0 1.0 1.0 0.0 1.0 0.0\n",
      " 0.0 0.0 0.0 0.0]\n"
     ]
    }
   ],
   "source": [
    "print(C_expected[0])"
   ]
  },
  {
   "cell_type": "code",
   "execution_count": 94,
   "id": "8b70cbf1-3a7c-4402-aa69-b2df722e8781",
   "metadata": {},
   "outputs": [
    {
     "name": "stdout",
     "output_type": "stream",
     "text": [
      "[0.017339007133879883 0.0 0.0 0.0 0.0 0.0 0.0 0.0 0.9930537824478709\n",
      " 0.9930472355887265 0.0 0.0 0.0 0.0 1.0 0.0 0.0 1.0 1.0 1.0 0.0 1.0 0.0\n",
      " 0.0 0.0 0.0 0.0]\n"
     ]
    }
   ],
   "source": [
    "print(C_predicted[5])"
   ]
  },
  {
   "cell_type": "markdown",
   "id": "b877a15c-b7ef-4e9f-98de-358c1546a263",
   "metadata": {},
   "source": [
    "# MOLTO STRANO CHE VENGANO PRIOPRIO UGUALI..."
   ]
  },
  {
   "cell_type": "code",
   "execution_count": null,
   "id": "bdca23ce-693d-4a7d-b540-db05c5fc0cb7",
   "metadata": {},
   "outputs": [],
   "source": []
  }
 ],
 "metadata": {
  "kernelspec": {
   "display_name": "Python 3 (ipykernel)",
   "language": "python",
   "name": "python3"
  },
  "language_info": {
   "codemirror_mode": {
    "name": "ipython",
    "version": 3
   },
   "file_extension": ".py",
   "mimetype": "text/x-python",
   "name": "python",
   "nbconvert_exporter": "python",
   "pygments_lexer": "ipython3",
   "version": "3.10.12"
  }
 },
 "nbformat": 4,
 "nbformat_minor": 5
}
