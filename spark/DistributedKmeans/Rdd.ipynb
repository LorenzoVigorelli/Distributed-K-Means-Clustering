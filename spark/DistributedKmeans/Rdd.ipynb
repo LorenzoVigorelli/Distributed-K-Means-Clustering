{
 "cells": [
  {
   "cell_type": "code",
   "execution_count": 1,
   "id": "2afb19f6-1725-4f2f-9eec-921b63ad73ac",
   "metadata": {},
   "outputs": [],
   "source": [
    "from sklearn.datasets import fetch_kddcup99\n",
    "import numpy as np\n",
    "import matplotlib.pyplot as plt"
   ]
  },
  {
   "cell_type": "code",
   "execution_count": 2,
   "id": "5641b626-9c40-4152-9ea7-bc4c66ed3f26",
   "metadata": {},
   "outputs": [
    {
     "name": "stderr",
     "output_type": "stream",
     "text": [
      "Setting default log level to \"WARN\".\n",
      "To adjust logging level use sc.setLogLevel(newLevel). For SparkR, use setLogLevel(newLevel).\n",
      "24/06/11 15:51:58 WARN NativeCodeLoader: Unable to load native-hadoop library for your platform... using builtin-java classes where applicable\n"
     ]
    }
   ],
   "source": [
    "# import the python libraries to create/connect to a Spark Session\n",
    "from pyspark.sql import SparkSession\n",
    "\n",
    "# build a SparkSession \n",
    "#   connect to the master node on the port where the master node is listening (7077)\n",
    "#   declare the app name \n",
    "#   configure the executor memory to 512 MB\n",
    "#   either *connect* or *create* a new Spark Context\n",
    "spark = SparkSession.builder \\\n",
    "    .master(\"spark://spark-master:7077\")\\\n",
    "    .appName(\"My first spark application\")\\\n",
    "    .config(\"spark.executor.memory\", \"512m\")\\\n",
    "    .getOrCreate()"
   ]
  },
  {
   "cell_type": "code",
   "execution_count": 3,
   "id": "9175c645-8567-44a5-941f-4400f6653aa8",
   "metadata": {},
   "outputs": [],
   "source": [
    "# create a spark context\n",
    "sc = spark.sparkContext"
   ]
  },
  {
   "cell_type": "code",
   "execution_count": 10,
   "id": "698c10ce-f6c7-4e20-8c8b-6f168ce174c2",
   "metadata": {},
   "outputs": [],
   "source": [
    "data = fetch_kddcup99(return_X_y = True)"
   ]
  },
  {
   "cell_type": "code",
   "execution_count": 11,
   "id": "2c62d557-ce56-41e5-8b7e-3116d5b19298",
   "metadata": {},
   "outputs": [
    {
     "data": {
      "text/plain": [
       "494021"
      ]
     },
     "execution_count": 11,
     "metadata": {},
     "output_type": "execute_result"
    }
   ],
   "source": [
    "len(data[0])"
   ]
  },
  {
   "cell_type": "code",
   "execution_count": 12,
   "id": "a7575636-ba64-4555-b6eb-ef9ec4e5a93d",
   "metadata": {},
   "outputs": [],
   "source": [
    "x= data[0]"
   ]
  },
  {
   "cell_type": "code",
   "execution_count": 13,
   "id": "babb2674-d2c7-41c0-870e-3339f3e94a50",
   "metadata": {},
   "outputs": [],
   "source": [
    "x = x[:, 4:]"
   ]
  },
  {
   "cell_type": "code",
   "execution_count": 14,
   "id": "fb620baf-67b0-403d-9b9e-795c5d8f1e7e",
   "metadata": {},
   "outputs": [],
   "source": [
    "y = data[1] "
   ]
  },
  {
   "cell_type": "code",
   "execution_count": 15,
   "id": "43dd0f0d-2dfa-459a-8df3-f842e17942cc",
   "metadata": {},
   "outputs": [
    {
     "name": "stdout",
     "output_type": "stream",
     "text": [
      "3300\n",
      "10725\n",
      "2\n",
      "3\n",
      "4\n",
      "22\n",
      "6\n",
      "2\n",
      "23\n",
      "2\n",
      "3\n",
      "20\n",
      "18\n",
      "3\n",
      "7\n",
      "1\n",
      "1\n",
      "2\n",
      "490\n",
      "470\n",
      "92\n",
      "51\n",
      "77\n",
      "51\n",
      "99\n",
      "78\n",
      "64\n",
      "256\n",
      "256\n",
      "101\n",
      "101\n",
      "101\n",
      "65\n",
      "100\n",
      "72\n",
      "101\n",
      "101\n"
     ]
    }
   ],
   "source": [
    "for i in range (x.shape[1]):\n",
    "    print(len(np.unique(x[:, i])))\n"
   ]
  },
  {
   "cell_type": "code",
   "execution_count": 16,
   "id": "6e190749-5eda-4ce0-a0e2-9f165ff03243",
   "metadata": {},
   "outputs": [
    {
     "data": {
      "text/plain": [
       "[<matplotlib.lines.Line2D at 0x7f13fb584150>]"
      ]
     },
     "execution_count": 16,
     "metadata": {},
     "output_type": "execute_result"
    },
    {
     "data": {
      "image/png": "[encoded data removed]",
      "text/plain": [
       "<Figure size 640x480 with 1 Axes>"
      ]
     },
     "metadata": {},
     "output_type": "display_data"
    }
   ],
   "source": [
    "plt.plot(x[:,1])"
   ]
  },
  {
   "cell_type": "code",
   "execution_count": 17,
   "id": "ba4b297d-f64f-43b4-af71-605fe8c351b9",
   "metadata": {},
   "outputs": [],
   "source": [
    "# to delete later on\n",
    "subLen = 1000\n",
    "x = x[:subLen,]\n",
    "y = y[:subLen]"
   ]
  },
  {
   "cell_type": "code",
   "execution_count": 20,
   "id": "de257940-5b4f-4203-a31a-f19916d8739a",
   "metadata": {},
   "outputs": [
    {
     "name": "stdout",
     "output_type": "stream",
     "text": [
      "2\n"
     ]
    }
   ],
   "source": [
    "kTarget = len(set(y))\n",
    "nSamples = x.shape[0]\n",
    "print(kTarget)"
   ]
  },
  {
   "cell_type": "code",
   "execution_count": 21,
   "id": "c242d0d4-6706-4923-88f1-a9bb6478eedb",
   "metadata": {},
   "outputs": [],
   "source": [
    "nSlice = None\n",
    "xRdd = sc.parallelize([{\"x\": x[i], \"c\": None,\"y\": y[i]} for i in range(nSamples)], numSlices = nSlice)\n",
    "# add persist later on"
   ]
  },
  {
   "cell_type": "code",
   "execution_count": 22,
   "id": "04139211-7061-4167-ad02-4e3d8b921581",
   "metadata": {},
   "outputs": [
    {
     "data": {
      "text/plain": [
       "2"
      ]
     },
     "execution_count": 22,
     "metadata": {},
     "output_type": "execute_result"
    }
   ],
   "source": [
    "xRdd.getNumPartitions() # check partitions"
   ]
  },
  {
   "cell_type": "code",
   "execution_count": 23,
   "id": "fcc27386-2a0b-4ab5-9a2b-01058690acbc",
   "metadata": {},
   "outputs": [],
   "source": [
    "def minmaxRescale(datum, minS, maxS):\n",
    "    mask = (minS < maxS).astype(bool)\n",
    "    feature = datum[\"x\"] \n",
    "    feature = (feature[mask] - minS[mask])/(maxS[mask] - minS[mask])\n",
    "    return {\"x\": feature, \"y\": datum[\"y\"]}    \n",
    "    "
   ]
  },
  {
   "cell_type": "code",
   "execution_count": 24,
   "id": "37bbf8ad-360b-4aa9-8302-3e33aa824b52",
   "metadata": {},
   "outputs": [
    {
     "name": "stderr",
     "output_type": "stream",
     "text": [
      "                                                                                \r"
     ]
    },
    {
     "name": "stdout",
     "output_type": "stream",
     "text": [
      "CPU times: user 16.7 ms, sys: 1.86 ms, total: 18.6 ms\n",
      "Wall time: 1.08 s\n"
     ]
    }
   ],
   "source": [
    "%%time\n",
    "maxS = xRdd.map(lambda datum: datum[\"x\"])\\\n",
    "           .reduce(lambda a, b: np.maximum(a, b))\n",
    "\n",
    "minS = xRdd.map(lambda datum: datum[\"x\"])\\\n",
    "           .reduce(lambda a, b: np.minimum(a, b))"
   ]
  },
  {
   "cell_type": "code",
   "execution_count": 25,
   "id": "5c47ef63-f36f-4e96-adb7-80422ebb9cbc",
   "metadata": {},
   "outputs": [],
   "source": [
    "#### fix ####\n",
    "# %%time\n",
    "# results = xRdd.map(lambda datum: datum[\"x\"])\\\n",
    "#               .reduce(lambda a, b: (np.maximum(a[0], b[0]), np.minimum(a[1], b[1]))"
   ]
  },
  {
   "cell_type": "code",
   "execution_count": 26,
   "id": "92b06aaa-8ef9-4e41-b42b-c72bea381ae1",
   "metadata": {},
   "outputs": [],
   "source": [
    "xRdd = xRdd.map(lambda datum: minmaxRescale(datum, minS, maxS))"
   ]
  },
  {
   "cell_type": "code",
   "execution_count": 27,
   "id": "26516cee-cd3a-4708-b4d4-6d42d418d2f7",
   "metadata": {},
   "outputs": [],
   "source": [
    "def selectCluster(datum, C):\n",
    "    \"\"\"\n",
    "    dimC(k, len(datum))\n",
    "    \"\"\"\n",
    "    distances = np.sum((datum[\"x\"] - C)**2, axis=1) \n",
    "    clusterId = np.argmin(distances)\n",
    "    datum[\"c\"] = clusterId\n",
    "    \n",
    "    return (datum)"
   ]
  },
  {
   "cell_type": "code",
   "execution_count": 15,
   "id": "74cf24af-9265-4979-9e8c-f89f4ab74e7a",
   "metadata": {},
   "outputs": [
    {
     "ename": "IndentationError",
     "evalue": "unexpected indent (3135065996.py, line 6)",
     "output_type": "error",
     "traceback": [
      "\u001b[0;36m  Cell \u001b[0;32mIn[15], line 6\u001b[0;36m\u001b[0m\n\u001b[0;31m    .\u001b[0m\n\u001b[0m    ^\u001b[0m\n\u001b[0;31mIndentationError\u001b[0m\u001b[0;31m:\u001b[0m unexpected indent\n"
     ]
    }
   ],
   "source": [
    "def kMeans(xRdd, C, maxIterations):\n",
    "    for t in range(maxIterations):\n",
    "        CIdS = xRdd.map(lambda datum: selectCluster(datum, C))\n",
    "\n",
    "        \n",
    "                   ."
   ]
  },
  {
   "cell_type": "code",
   "execution_count": null,
   "id": "80f4e846-7363-4be0-b3c8-0801a87783f1",
   "metadata": {},
   "outputs": [],
   "source": [
    "def localK"
   ]
  }
 ],
 "metadata": {
  "kernelspec": {
   "display_name": "Python 3 (ipykernel)",
   "language": "python",
   "name": "python3"
  },
  "language_info": {
   "codemirror_mode": {
    "name": "ipython",
    "version": 3
   },
   "file_extension": ".py",
   "mimetype": "text/x-python",
   "name": "python",
   "nbconvert_exporter": "python",
   "pygments_lexer": "ipython3",
   "version": "3.11.8"
  }
 },
 "nbformat": 4,
 "nbformat_minor": 5
}
