{
 "cells": [
  {
   "cell_type": "code",
   "execution_count": 1,
   "id": "2afb19f6-1725-4f2f-9eec-921b63ad73ac",
   "metadata": {},
   "outputs": [],
   "source": [
    "from sklearn.datasets import fetch_kddcup99\n",
    "import numpy as np\n",
    "import matplotlib.pyplot as plt\n",
    "import pandas as pd"
   ]
  },
  {
   "cell_type": "code",
   "execution_count": 2,
   "id": "2c0ecba7-bc20-4d0f-90a2-5718b7dc51f5",
   "metadata": {},
   "outputs": [],
   "source": [
    "# pip install scikit-learn"
   ]
  },
  {
   "cell_type": "markdown",
   "id": "caab8ad2-235d-458a-93a7-e3d0d929b604",
   "metadata": {},
   "source": [
    "### Brief section of LOCAL K-Means (and related) functions:"
   ]
  },
  {
   "cell_type": "code",
   "execution_count": 3,
   "id": "4de00fb2-8b85-4bc3-9ff8-db9397b4678c",
   "metadata": {},
   "outputs": [],
   "source": [
    "def localPlusPlusInit(points, k): \n",
    "    #print('pointsshape: ', points.shape)\n",
    "    '''\n",
    "    points is a numpy array (n,dim)\n",
    "    '''\n",
    "    C=points[np.random.choice(points.shape[0])]#sample from array di punti ecc...\n",
    "    C=C[np.newaxis, :]\n",
    "    for _ in range(k):\n",
    "        #points is array (n, dim), C is array(g<=k, dim)\n",
    "        #probs is array (n,1)\n",
    "        probs=np.min(np.sum((points[:,:,np.newaxis]-C.T[np.newaxis,:,:])**2, axis=1), axis=1).flatten()\n",
    "        #probs=[min([sum((point-centroid)**2) for centroid in C]) for point in points] #numpyfy this, or numbafy if left base python\n",
    "        probs=probs/np.sum(probs)\n",
    "        nextCentroid=points[np.random.choice(points.shape[0], p=probs)][np.newaxis,:]\n",
    "        #print('LE FORME',C.shape, nextCentroid.shape)\n",
    "        C=np.vstack((C, nextCentroid))\n",
    "    return C\n",
    "#Inventare test"
   ]
  },
  {
   "cell_type": "code",
   "execution_count": 4,
   "id": "812a3972-be43-4a03-911d-143a4a605c14",
   "metadata": {},
   "outputs": [],
   "source": [
    "# Function to compute weighted average, given \n",
    "def weightedAverage(group):\n",
    "    weight_column='weights'\n",
    "    groupby_column='clusterId'\n",
    "    columns_to_average = group.columns.difference([weight_column, groupby_column])\n",
    "    weighted_averages = group[columns_to_average].multiply(group[weight_column], axis=0).sum() / group[weight_column].sum()\n",
    "    return weighted_averages\n",
    "def localLloyds(points, k, weights=None, n_iterations=100):\n",
    "    df=pd.DataFrame(points)\n",
    "    if weights is None:\n",
    "        weights=np.ones(shape=len(points))\n",
    "    #print('weights', weights)\n",
    "    df['weights']=weights\n",
    "    df['clusterId']=np.zeros(shape=len(points))\n",
    "    C=localPlusPlusInit(points, k)\n",
    "    #print('localPlusPluisInit: ', C)\n",
    "    clusterId=np.argmin(np.sum((points[:,:,np.newaxis]-C.T[np.newaxis,:,:])**2, axis=1), axis=1)\n",
    "    for iteration in range(n_iterations):\n",
    "        df['clusterId']=clusterId\n",
    "        C_df=df.groupby('clusterId')\\\n",
    "            .apply(weightedAverage)\\\n",
    "            .reset_index()\n",
    "        C_array=C_df[C_df.columns.difference(['weights', 'clusterId'])].reset_index(drop=True).to_numpy()\n",
    "        clusterId=np.argmin(np.sum((points[:,:,np.newaxis]-C_array.T[np.newaxis,:,:])**2, axis=1), axis=1)\n",
    "        #print(clusterId)\n",
    "        \n",
    "    return C_array   "
   ]
  },
  {
   "cell_type": "markdown",
   "id": "f0a603fc-617f-40fb-abcb-219db96ecc74",
   "metadata": {},
   "source": [
    "### Beginning of the PARALLELIZED section"
   ]
  },
  {
   "cell_type": "code",
   "execution_count": 5,
   "id": "5641b626-9c40-4152-9ea7-bc4c66ed3f26",
   "metadata": {},
   "outputs": [
    {
     "name": "stderr",
     "output_type": "stream",
     "text": [
      "Setting default log level to \"WARN\".\n",
      "To adjust logging level use sc.setLogLevel(newLevel). For SparkR, use setLogLevel(newLevel).\n",
      "24/07/02 15:48:17 WARN NativeCodeLoader: Unable to load native-hadoop library for your platform... using builtin-java classes where applicable\n"
     ]
    }
   ],
   "source": [
    "# import the python libraries to create/connect to a Spark Session\n",
    "from pyspark.sql import SparkSession\n",
    "\n",
    "# build a SparkSession \n",
    "#   connect to the master node on the port where the master node is listening (7077)\n",
    "#   declare the app name \n",
    "#   configure the executor memory to 512 MB\n",
    "#   either *connect* or *create* a new Spark Context\n",
    "spark = SparkSession.builder \\\n",
    "    .master(\"spark://spark-master:7077\")\\\n",
    "    .appName(\"My first spark application\")\\\n",
    "    .config(\"spark.executor.memory\", \"512m\")\\\n",
    "    .getOrCreate()"
   ]
  },
  {
   "cell_type": "code",
   "execution_count": 6,
   "id": "9175c645-8567-44a5-941f-4400f6653aa8",
   "metadata": {},
   "outputs": [],
   "source": [
    "# create a spark context\n",
    "sc = spark.sparkContext"
   ]
  },
  {
   "cell_type": "code",
   "execution_count": 7,
   "id": "698c10ce-f6c7-4e20-8c8b-6f168ce174c2",
   "metadata": {},
   "outputs": [],
   "source": [
    "data = fetch_kddcup99(return_X_y = True)"
   ]
  },
  {
   "cell_type": "code",
   "execution_count": 8,
   "id": "2c62d557-ce56-41e5-8b7e-3116d5b19298",
   "metadata": {},
   "outputs": [
    {
     "data": {
      "text/plain": [
       "494021"
      ]
     },
     "execution_count": 8,
     "metadata": {},
     "output_type": "execute_result"
    }
   ],
   "source": [
    "len(data[0])"
   ]
  },
  {
   "cell_type": "code",
   "execution_count": 9,
   "id": "a7575636-ba64-4555-b6eb-ef9ec4e5a93d",
   "metadata": {},
   "outputs": [],
   "source": [
    "x= data[0]\n",
    "x = x[:, 4:]"
   ]
  },
  {
   "cell_type": "code",
   "execution_count": 10,
   "id": "fb2630b1-2e1f-4031-9fc7-96aea6df3616",
   "metadata": {},
   "outputs": [
    {
     "name": "stdout",
     "output_type": "stream",
     "text": [
      "(494021, 37)\n"
     ]
    }
   ],
   "source": [
    "print(x.shape)"
   ]
  },
  {
   "cell_type": "code",
   "execution_count": 11,
   "id": "fb620baf-67b0-403d-9b9e-795c5d8f1e7e",
   "metadata": {},
   "outputs": [],
   "source": [
    "y = data[1] "
   ]
  },
  {
   "cell_type": "code",
   "execution_count": 12,
   "id": "9a0bfaef-8d39-4445-a4b6-3f92f8f1d8b7",
   "metadata": {},
   "outputs": [],
   "source": [
    "# to delete later on\n",
    "subLen = 1000\n",
    "x = x[:subLen,]\n",
    "y = y[:subLen]"
   ]
  },
  {
   "cell_type": "code",
   "execution_count": 13,
   "id": "43dd0f0d-2dfa-459a-8df3-f842e17942cc",
   "metadata": {},
   "outputs": [
    {
     "name": "stdout",
     "output_type": "stream",
     "text": [
      "310\n",
      "557\n",
      "1\n",
      "1\n",
      "1\n",
      "10\n",
      "1\n",
      "2\n",
      "2\n",
      "2\n",
      "1\n",
      "1\n",
      "3\n",
      "1\n",
      "2\n",
      "1\n",
      "1\n",
      "2\n",
      "40\n",
      "46\n",
      "7\n",
      "7\n",
      "1\n",
      "1\n",
      "3\n",
      "3\n",
      "36\n",
      "180\n",
      "151\n",
      "67\n",
      "31\n",
      "34\n",
      "23\n",
      "8\n",
      "3\n",
      "1\n",
      "1\n"
     ]
    }
   ],
   "source": [
    "for i in range (x.shape[1]):\n",
    "    print(len(np.unique(x[:, i])))\n",
    "    \n"
   ]
  },
  {
   "cell_type": "code",
   "execution_count": 14,
   "id": "6e190749-5eda-4ce0-a0e2-9f165ff03243",
   "metadata": {},
   "outputs": [
    {
     "data": {
      "text/plain": [
       "[<matplotlib.lines.Line2D at 0x7fddb4e455d0>]"
      ]
     },
     "execution_count": 14,
     "metadata": {},
     "output_type": "execute_result"
    },
    {
     "data": {
      "image/png": "[encoded data removed]",
      "text/plain": [
       "<Figure size 640x480 with 1 Axes>"
      ]
     },
     "metadata": {},
     "output_type": "display_data"
    }
   ],
   "source": [
    "plt.plot(x[:,1])"
   ]
  },
  {
   "cell_type": "code",
   "execution_count": 15,
   "id": "de257940-5b4f-4203-a31a-f19916d8739a",
   "metadata": {},
   "outputs": [
    {
     "name": "stdout",
     "output_type": "stream",
     "text": [
      "2\n"
     ]
    }
   ],
   "source": [
    "kTarget = len(set(y))\n",
    "nSamples = x.shape[0]\n",
    "print(kTarget)"
   ]
  },
  {
   "cell_type": "code",
   "execution_count": 16,
   "id": "c242d0d4-6706-4923-88f1-a9bb6478eedb",
   "metadata": {},
   "outputs": [
    {
     "name": "stderr",
     "output_type": "stream",
     "text": [
      "[Stage 0:>                                                          (0 + 1) / 2]\r"
     ]
    },
    {
     "name": "stdout",
     "output_type": "stream",
     "text": [
      "(37,)\n"
     ]
    },
    {
     "name": "stderr",
     "output_type": "stream",
     "text": [
      "                                                                                \r"
     ]
    }
   ],
   "source": [
    "nSlice = None\n",
    "Rdd = sc.parallelize([(None, {\"x\": x[i],\"y\": y[i], \"d2\":None}) for i in range(nSamples)], numSlices = nSlice)\n",
    "# add persist later on\n",
    "print(Rdd.takeSample(False, 3)[0][1]['x'].shape)"
   ]
  },
  {
   "cell_type": "code",
   "execution_count": 17,
   "id": "04139211-7061-4167-ad02-4e3d8b921581",
   "metadata": {},
   "outputs": [
    {
     "data": {
      "text/plain": [
       "2"
      ]
     },
     "execution_count": 17,
     "metadata": {},
     "output_type": "execute_result"
    }
   ],
   "source": [
    "Rdd.getNumPartitions() # check partitions"
   ]
  },
  {
   "cell_type": "code",
   "execution_count": 18,
   "id": "fcc27386-2a0b-4ab5-9a2b-01058690acbc",
   "metadata": {},
   "outputs": [],
   "source": [
    "def minmaxRescale(datum, minS, maxS):\n",
    "    mask = (minS < maxS).astype(bool)\n",
    "    feature = datum[1][\"x\"] \n",
    "    feature = (feature[mask] - minS[mask])/(maxS[mask] - minS[mask])\n",
    "    return (datum[0], {\"x\": feature, \"y\": datum[1][\"y\"], \"d2\":datum[1][\"d2\"]})   \n",
    "\n"
   ]
  },
  {
   "cell_type": "code",
   "execution_count": 19,
   "id": "37bbf8ad-360b-4aa9-8302-3e33aa824b52",
   "metadata": {},
   "outputs": [
    {
     "name": "stdout",
     "output_type": "stream",
     "text": [
      "(37,)\n",
      "[ True  True False False False  True False  True  True  True False False\n",
      "  True False  True False False  True  True  True  True  True False False\n",
      "  True  True  True  True  True  True  True  True  True  True  True False\n",
      " False]\n",
      "CPU times: user 6.74 ms, sys: 1.87 ms, total: 8.6 ms\n",
      "Wall time: 451 ms\n"
     ]
    }
   ],
   "source": [
    "%%time\n",
    "maxS = Rdd.map(lambda datum: datum[1][\"x\"])\\\n",
    "           .reduce(lambda a, b: np.maximum(a, b))\n",
    "minS = Rdd.map(lambda datum: datum[1][\"x\"])\\\n",
    "           .reduce(lambda a, b: np.minimum(a, b))\n",
    "\n",
    "print(maxS.shape)\n",
    "print((minS < maxS).astype(bool))"
   ]
  },
  {
   "cell_type": "code",
   "execution_count": 20,
   "id": "c93d861c-b61f-47a8-8b86-a899e0b6ba64",
   "metadata": {},
   "outputs": [
    {
     "name": "stdout",
     "output_type": "stream",
     "text": [
      "[2 3 5]\n"
     ]
    }
   ],
   "source": [
    "a,b=np.array([1,3,5]), np.array([2,1,5])\n",
    "print(np.maximum(a,b))"
   ]
  },
  {
   "cell_type": "code",
   "execution_count": 21,
   "id": "6cc0b3b2-3b22-4018-9573-dd125c4f8f17",
   "metadata": {},
   "outputs": [
    {
     "name": "stdout",
     "output_type": "stream",
     "text": [
      "(0, 19721) (0, 125015) (0, 0) (0, 0) (0, 0) (0, 30) (0, 0) (0, 1) (0, 2) (0, 1) (0, 0) (0, 0) (0, 2) (0, 0) (0, 1) (0, 0) (0, 0) (0, 1) (1, 41) (1, 57) (0.0, 0.25) (0.0, 0.25) (0.0, 0.0) (0.0, 0.0) (0.33, 1.0) (0.0, 1.0) (0.0, 1.0) (1, 255) (1, 255) (0.06, 1.0) (0.0, 1.0) (0.0, 1.0) (0.0, 1.0) (0.0, 0.1) (0.0, 0.13) (0.0, 0.0) (0.0, 0.0)\n",
      "(37,)\n"
     ]
    }
   ],
   "source": [
    "print(*zip(minS, maxS))\n",
    "print((minS < maxS).astype(bool).shape)"
   ]
  },
  {
   "cell_type": "code",
   "execution_count": 22,
   "id": "5c47ef63-f36f-4e96-adb7-80422ebb9cbc",
   "metadata": {},
   "outputs": [],
   "source": [
    "#### fix ####\n",
    "# %%time\n",
    "# results = Rdd.map(lambda datum: datum[\"x\"])\\\n",
    "#               .reduce(lambda a, b: (np.maximum(a[0], b[0]), np.minimum(a[1], b[1]))"
   ]
  },
  {
   "cell_type": "code",
   "execution_count": 23,
   "id": "92b06aaa-8ef9-4e41-b42b-c72bea381ae1",
   "metadata": {},
   "outputs": [
    {
     "name": "stdout",
     "output_type": "stream",
     "text": [
      "(24,)\n"
     ]
    }
   ],
   "source": [
    "Rdd = Rdd.map(lambda datum: minmaxRescale(datum, minS, maxS))\n",
    "print(Rdd.takeSample(False, 3)[0][1]['x'].shape)\n"
   ]
  },
  {
   "cell_type": "code",
   "execution_count": 24,
   "id": "35397a12-f95d-4f61-ba39-4384d0268142",
   "metadata": {},
   "outputs": [
    {
     "name": "stdout",
     "output_type": "stream",
     "text": [
      "(None, {'x': array([0.0169869682064804, 0.01343838739351278, 0.0, 1.0, 0.0, 0.0, 0.0,\n",
      "       0.0, 0.0, 0.25, 0.17857142857142858, 0.0, 0.0, 1.0, 0.0, 0.0, 1.0,\n",
      "       1.0, 1.0, 0.0, 0.0, 0.0, 0.0, 0.0], dtype=object), 'y': b'normal.', 'd2': None})\n"
     ]
    }
   ],
   "source": [
    "local_datum=Rdd.takeSample(False, 3)[0]\n",
    "print(local_datum)"
   ]
  },
  {
   "cell_type": "code",
   "execution_count": 25,
   "id": "26516cee-cd3a-4708-b4d4-6d42d418d2f7",
   "metadata": {},
   "outputs": [],
   "source": [
    "def selectCluster(datum, C):\n",
    "    \"\"\"\n",
    "    dimC(k, len(datum))\n",
    "    \"\"\"\n",
    "    distances = np.sum((datum[1][\"x\"] - C)**2, axis=1)\n",
    "    clusterId = np.argmin(distances)\n",
    "    return (clusterId, datum[1])"
   ]
  },
  {
   "cell_type": "code",
   "execution_count": 26,
   "id": "532ba72f-e0fc-4714-b00c-daea23dd5ed6",
   "metadata": {},
   "outputs": [
    {
     "data": {
      "text/plain": [
       "\"\\nC_init=naiveInitFromSpace(14, len(local_datum[1]['x']))\\nprint(C_init.shape)\\n\""
      ]
     },
     "execution_count": 26,
     "metadata": {},
     "output_type": "execute_result"
    }
   ],
   "source": [
    "'''\n",
    "C_init=naiveInitFromSpace(14, len(local_datum[1]['x']))\n",
    "print(C_init.shape)\n",
    "'''"
   ]
  },
  {
   "cell_type": "code",
   "execution_count": 27,
   "id": "6b7584aa-92fe-4d3c-a7a8-80c166ed0230",
   "metadata": {},
   "outputs": [
    {
     "data": {
      "text/plain": [
       "'\\nC_init=[el for el in C_init]\\nprint(selectCluster(local_datum, C_init))\\n'"
      ]
     },
     "execution_count": 27,
     "metadata": {},
     "output_type": "execute_result"
    }
   ],
   "source": [
    "'''\n",
    "C_init=[el for el in C_init]\n",
    "print(selectCluster(local_datum, C_init))\n",
    "'''"
   ]
  },
  {
   "cell_type": "code",
   "execution_count": 28,
   "id": "e7c9b98a-944e-4b8f-a52a-095a0ba98025",
   "metadata": {},
   "outputs": [],
   "source": [
    "#update centroids as 'centers of mass' of clusters\n",
    "def updateCentroids(Rdd):\n",
    "    C=Rdd.mapValues(lambda xy: (xy['x'], 1))\\\n",
    "              .reduceByKey(lambda a,b : (a[0]+b[0], a[1]+b[1]))\\\n",
    "              .mapValues(lambda a:a[0]/a[1])\\\n",
    "              .values()\\\n",
    "              .collect() \n",
    "    C=np.array(C) #check later more carefully if causes some overhead\n",
    "    return C\n"
   ]
  },
  {
   "cell_type": "code",
   "execution_count": 29,
   "id": "06ecbe51-fcb3-425b-879f-c88eade0ba40",
   "metadata": {},
   "outputs": [],
   "source": [
    "#lets assume entry of xy dictionary to be distance of point from its centroid\n",
    "# ADD IF NOT TIME CONSUMING d ENTRY IN XY DICTIONARY FOR CONSISTENCY\n",
    "\n",
    "#update the Rdd with square distances from centroids, given Rdd with centroids already updated \n",
    "def updateDistances(Rdd, C):\n",
    "    def datumUpdate(datum, C):\n",
    "        d2=np.sum((datum[1]['x']-C[datum[0]])**2)\n",
    "        #return datum\n",
    "        return (datum[0], {\"x\": datum[1][\"x\"], \"y\": datum[1][\"y\"], \"d2\":d2})\n",
    "    Rdd=Rdd.map(lambda datum:datumUpdate(datum, C))\n",
    "    return Rdd\n",
    "#calculate global cost of X,C from an Rdd with distances from centroids already updated\n",
    "def cost(Rdd):\n",
    "    my_cost=Rdd.map(lambda datum : datum[1]['d2'])\\\n",
    "       .reduce(lambda a,b: a+b)\n",
    "    return my_cost "
   ]
  },
  {
   "cell_type": "code",
   "execution_count": 30,
   "id": "052f2cf7-5da9-4528-86f5-9e69617aa3b6",
   "metadata": {},
   "outputs": [],
   "source": [
    "#updateDistances(Rdd, Rdd.takeSample(False, 1)[0][1]['x']).takeSample(False, 10)"
   ]
  },
  {
   "cell_type": "code",
   "execution_count": 31,
   "id": "74cf24af-9265-4979-9e8c-f89f4ab74e7a",
   "metadata": {},
   "outputs": [],
   "source": [
    "def kMeans(Rdd, C_init, maxIterations):\n",
    "    C=C_init\n",
    "    for t in range(maxIterations):\n",
    "        Rdd = Rdd.map(lambda datum: selectCluster(datum, C))\n",
    "        # Now we compute the new centroids by calculating the averages of points belonging to the same cluster.\n",
    "        # Need to check that all centroids are assigned to at least one point, otherwise k changes!!! Solutions?!\n",
    "        C=updateCentroids(Rdd)\n",
    "    return C"
   ]
  },
  {
   "cell_type": "markdown",
   "id": "ae7525f0-2f49-48da-8254-6db652b7337a",
   "metadata": {},
   "source": [
    "Different initialization functions"
   ]
  },
  {
   "cell_type": "code",
   "execution_count": 32,
   "id": "80f4e846-7363-4be0-b3c8-0801a87783f1",
   "metadata": {},
   "outputs": [],
   "source": [
    "def naiveInitFromSet(Rdd, k):\n",
    "    #uniform sampling of k points from Rdd\n",
    "    kSubset=Rdd.takeSample(False, k)\n",
    "    # Replacement is set to False to avoid coinciding centroids BUT no guarantees that in the original dataset all points are distinct!!! Check if causes problems in the algorithm (i.e. need to pre-filter) or it's ok\n",
    "    C_init=np.array([datum[1]['x'] for datum in kSubset])\n",
    "    return C_init\n",
    "def naiveInitFromSpace(k, dim):\n",
    "    #uniform drawing of k points from euclidean space\n",
    "    #we assume the Rdd has been mapped into a [0,1]^dim space\n",
    "    C_init=np.random.uniform(size=(k,dim))\n",
    "    return C_init"
   ]
  },
  {
   "cell_type": "code",
   "execution_count": 33,
   "id": "c4ef6f9d-0e3e-45de-897c-63100f949315",
   "metadata": {},
   "outputs": [],
   "source": [
    "'''\n",
    "1: C ← sample a point uniformly at random from X\n",
    "2: ψ ← φX (C)\n",
    "3: for O(log ψ) times do\n",
    "4:\n",
    "C 0 ← sample each point x ∈ X independently with\n",
    "2\n",
    "(x,C)\n",
    "probability px = `·d\n",
    "φX (C)\n",
    "0\n",
    "5:\n",
    "C ←C∪C\n",
    "6: end for\n",
    "7: For x ∈ C, set wx to be the number of points in X closer\n",
    "to x than any other point in C\n",
    "8: Recluster the weighted points in C into k clusters\n",
    "'''\n",
    "def parallelInit(Rdd, k, l):\n",
    "    C=naiveInitFromSet(Rdd, 1)\n",
    "    Rdd=Rdd.map(lambda datum : (0, datum[1]))\n",
    "    Rdd=updateDistances(Rdd, C)\n",
    "    my_cost=cost(Rdd)\n",
    "    n_iterations=int(np.log(my_cost))\n",
    "    for _ in range(n_iterations):\n",
    "        C_prime=Rdd.filter(lambda datum : np.random.uniform()<l*datum[1]['d2']/my_cost)\\\n",
    "                   .map(lambda datum : datum[1]['x'])\\\n",
    "                   .collect()\n",
    "        C_prime=np.array(C_prime)\n",
    "        if (C_prime.shape[0]>0):\n",
    "            C=np.vstack((C, C_prime))\n",
    "        #Rdd=Rdd.map(lambda datum : (0, datum[1]))\n",
    "        Rdd=updateDistances(Rdd, C)\n",
    "        my_cost=cost(Rdd)\n",
    "    #erase centroids sampled more than once \n",
    "    C=C.astype(float)\n",
    "    #print('original',C)\n",
    "    C=np.unique(C, axis=0)\n",
    "    #print('unique',C)\n",
    "    Rdd=Rdd.map(lambda datum: selectCluster(datum, C))\n",
    "    #compute weights of centroids (sizes of each cluster) and put them in a list whose index is same centroid index as C\n",
    "    wx=Rdd.countByKey()\n",
    "    #print('dict',dict(wx))\n",
    "    #print('*wx',*wx)\n",
    "    #print('zip(*wx)',zip(*wx))\n",
    "    #print('list',list(zip(*wx)))\n",
    "    #wx=list(zip(*wx))\n",
    "    #print(list(wx.keys()), list(wx.values()))\n",
    "    weights=np.zeros(len(C))\n",
    "    weights[[list(wx.keys())]]=[list(wx.values())]\n",
    "    #subselection of k centroids from C, using local Lloyds algorithm with k-means++ initialization\n",
    "    if C.shape[0]<=k:\n",
    "        C_init=C\n",
    "    else:\n",
    "        C_init=localLloyds(C, k, weights=weights, n_iterations=100)\n",
    "    return C_init\n",
    "    "
   ]
  },
  {
   "cell_type": "code",
   "execution_count": 34,
   "id": "a9e93679-862c-4675-b920-07e55158f83d",
   "metadata": {},
   "outputs": [
    {
     "name": "stdout",
     "output_type": "stream",
     "text": [
      "[0. 0. 0. 0. 0.]\n",
      "[(3, 4, 2), (2, 1, 12)]\n",
      "[ 0.  0. 12.  2.  1.]\n"
     ]
    }
   ],
   "source": [
    "arr=np.zeros(5)\n",
    "print(arr)\n",
    "tuplas=[(3,2),(4,1),(2,12)]\n",
    "untuplas=list(zip(*tuplas))\n",
    "print(untuplas)\n",
    "arr[[untuplas[0]]]=[untuplas[1]]\n",
    "print(arr)"
   ]
  },
  {
   "cell_type": "code",
   "execution_count": 35,
   "id": "f2e34e99-a947-41a2-8f04-8cda37bf2e32",
   "metadata": {},
   "outputs": [],
   "source": [
    "#print(naiveInitFromSet(Rdd, 14).shape)\n",
    "#print(Rdd.takeSample(False, 3)[0][1]['x'])"
   ]
  },
  {
   "cell_type": "code",
   "execution_count": 36,
   "id": "8adf1d6c-bdc0-4e89-8cdc-2be886c527be",
   "metadata": {},
   "outputs": [
    {
     "name": "stdout",
     "output_type": "stream",
     "text": [
      "[[0.0416941331575478 0.022284325880894296 0.04765625 1.0 0.0078125\n",
      "  0.0078125 0.01171875 0.0 0.1015625 0.0765625 0.07421875 0.0 0.0\n",
      "  0.980527052238806 0.020859375 0.02828125 0.16246309055118113\n",
      "  0.2914000984251968 0.8013630319148937 0.06726562500000001\n",
      "  0.061015624999999934 0.03554687499999999 0.01640625 0.0078125]\n",
      " [0.08792160442088708 0.019163974832823977 0.0 1.0 0.0 0.0 0.0\n",
      "  0.0196078431372549 0.0 0.004411764705882353 0.03676470588235295 0.0 0.0\n",
      "  1.0 0.0 0.9305882352941178 0.13903041531573257 0.5434614790798209\n",
      "  0.8370880267000418 0.07215686274509803 0.19843137254901952\n",
      "  0.032549019607843156 0.00980392156862745 0.0]\n",
      " [0.012754038236382612 0.03204603507280618 0.0 0.996268656716418 0.0 0.0\n",
      "  0.0 0.0 0.0 0.13805970149253735 0.12639925373134334\n",
      "  0.0034328358208955225 0.0034328358208955225 1.0 0.0 0.1007089552238806\n",
      "  0.9355976025384888 0.9917734163826536 1.0 0.0 0.00164179104477612\n",
      "  0.004291044776119404 0.004477611940298508 0.003157290470723306]\n",
      " [0.005934132499722479 0.010297575101798595 0.002702702702702703\n",
      "  0.13513513513513514 0.02702702702702703 0.02702702702702703\n",
      "  0.013513513513513514 0.0 0.0 0.0013513513513513514 0.010617760617760617\n",
      "  0.0 0.0 1.0 0.0 0.15486486486486487 0.15301127899553094\n",
      "  0.1854649925516067 0.9390454284071307 0.012162162162162161\n",
      "  0.9427027027027026 0.05270270270270272 0.0 0.0]\n",
      " [0.01676336548799777 0.0467086952110276 0.00016963528413910093 1.0 0.0\n",
      "  0.002544529262086514 0.0 0.0 0.0 0.14096692111959283\n",
      "  0.13826790258087968 0.00366412213740458 0.003969465648854962 1.0 0.0\n",
      "  0.05101781170483462 0.14987678066959198 0.9626635411031638\n",
      "  0.9961832061068703 0.0036641221374045813 0.09684478371501269\n",
      "  0.03475826972010169 0.012468193384223919 0.0052847915443335275]\n",
      " [0.012617770475452143 0.03187798907430076 0.0 1.0 0.0 0.0 0.0 0.0 0.0\n",
      "  0.6301546391752578 0.4953976435935197 0.004123711340206186\n",
      "  0.004123711340206186 1.0 0.0 0.02927835051546392 0.9291338582677166 1.0\n",
      "  1.0 0.0 0.0018556701030927835 0.004329896907216494 0.01443298969072165\n",
      "  0.011102299762093574]\n",
      " [0.001240380227247019 0.0004977864194758168 0.0 0.0 0.0 0.0 0.0 0.0 0.0\n",
      "  0.0 0.019917582417582416 0.0 0.0 1.0 0.0 0.518076923076923\n",
      "  0.16626287098728046 0.0900969109630527 0.1612111292962357\n",
      "  0.17115384615384613 0.16923076923076924 0.09653846153846155 0.0 0.0]]\n",
      "CPU times: user 673 ms, sys: 21.5 ms, total: 695 ms\n",
      "Wall time: 8.74 s\n"
     ]
    }
   ],
   "source": [
    "%%time\n",
    "k=kTarget\n",
    "l=kTarget/2\n",
    "#print(kMeans(Rdd, naiveInitFromSet(Rdd, 2), 10))\n",
    "print(kMeans(Rdd, parallelInit(Rdd, k, l), 10))"
   ]
  },
  {
   "cell_type": "code",
   "execution_count": 37,
   "id": "73fc67f2-675e-4135-93e4-04024a34d858",
   "metadata": {},
   "outputs": [
    {
     "name": "stdout",
     "output_type": "stream",
     "text": [
      "<class 'numpy.ndarray'> (4, 4)\n",
      "[[1 2 3 1]\n",
      " [4 5 6 4]\n",
      " [9 8 7 9]]\n"
     ]
    }
   ],
   "source": [
    "'''\n",
    "a=np.array([[1],[2],[3]])\n",
    "b= np.array([[4],[5],[6]])\n",
    "print(a*b)\n",
    "'''\n",
    "D=np.array([[1,2,3,1],[1,2,3,1],[4,5,6,4],[9,8,7,9]])\n",
    "print(type(D), D.shape)\n",
    "print(np.unique(D, axis=0))"
   ]
  },
  {
   "cell_type": "markdown",
   "id": "7bbe47b3-2fac-4211-91eb-dfa472fc6b7d",
   "metadata": {},
   "source": [
    "### TODO: compute percentage of coincidence with theoretical \"y\" clusterId of points"
   ]
  },
  {
   "cell_type": "code",
   "execution_count": null,
   "id": "11c5423d-ed9b-4b10-ae89-0d0f741d08bf",
   "metadata": {},
   "outputs": [],
   "source": []
  }
 ],
 "metadata": {
  "kernelspec": {
   "display_name": "Python 3 (ipykernel)",
   "language": "python",
   "name": "python3"
  },
  "language_info": {
   "codemirror_mode": {
    "name": "ipython",
    "version": 3
   },
   "file_extension": ".py",
   "mimetype": "text/x-python",
   "name": "python",
   "nbconvert_exporter": "python",
   "pygments_lexer": "ipython3",
   "version": "3.10.12"
  }
 },
 "nbformat": 4,
 "nbformat_minor": 5
}
