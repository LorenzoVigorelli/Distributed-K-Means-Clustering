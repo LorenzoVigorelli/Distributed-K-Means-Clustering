{
 "cells": [
  {
   "cell_type": "code",
   "execution_count": 1,
   "id": "58feeac8-4767-418f-9251-00b39f9322a2",
   "metadata": {},
   "outputs": [],
   "source": [
    "from sklearn.datasets import fetch_kddcup99\n",
    "import numpy as np\n",
    "import matplotlib.pyplot as plt\n",
    "import pandas as pd\n",
    "from time import time"
   ]
  },
  {
   "cell_type": "code",
   "execution_count": 2,
   "id": "ac5345c5-7660-4c02-8183-0f39940ac165",
   "metadata": {},
   "outputs": [],
   "source": [
    "#pip install scikit-learn"
   ]
  },
  {
   "cell_type": "code",
   "execution_count": 3,
   "id": "40f4d91d-4e7b-4362-8f01-c7161ca30312",
   "metadata": {},
   "outputs": [
    {
     "name": "stderr",
     "output_type": "stream",
     "text": [
      "Setting default log level to \"WARN\".\n",
      "To adjust logging level use sc.setLogLevel(newLevel). For SparkR, use setLogLevel(newLevel).\n",
      "24/07/04 11:19:52 WARN NativeCodeLoader: Unable to load native-hadoop library for your platform... using builtin-java classes where applicable\n"
     ]
    }
   ],
   "source": [
    "# import the python libraries to create/connect to a Spark Session\n",
    "from pyspark.sql import SparkSession\n",
    "\n",
    "# build a SparkSession \n",
    "#   connect to the master node on the port where the master node is listening (7077)\n",
    "#   declare the app name \n",
    "#   configure the executor memory to 512 MB\n",
    "#   either *connect* or *create* a new Spark Context\n",
    "spark = SparkSession.builder \\\n",
    "    .master(\"spark://spark-master:7077\")\\\n",
    "    .appName(\"My first spark application\")\\\n",
    "    .config(\"spark.executor.memory\", \"512m\")\\\n",
    "    .getOrCreate()"
   ]
  },
  {
   "cell_type": "code",
   "execution_count": 4,
   "id": "2476b5ef-85b1-4c63-aed7-7cf6e8de1278",
   "metadata": {},
   "outputs": [],
   "source": [
    "# create a spark context\n",
    "sc = spark.sparkContext\n",
    "sc.setLogLevel(\"ERROR\")"
   ]
  },
  {
   "cell_type": "code",
   "execution_count": 5,
   "id": "b9654478-37df-419c-9a2b-9d8a9d5c608f",
   "metadata": {},
   "outputs": [],
   "source": [
    "nSlice = None # IMPORTANT PARAMETER FOR NUMBER OF PARTITIONS\n",
    "Rdd = sc.parallelize(np.arange(10_000), numSlices = nSlice)"
   ]
  },
  {
   "cell_type": "code",
   "execution_count": 6,
   "id": "7097b41f-3151-4c5e-b4c5-d29adeed8e41",
   "metadata": {},
   "outputs": [
    {
     "data": {
      "text/plain": [
       "2"
      ]
     },
     "execution_count": 6,
     "metadata": {},
     "output_type": "execute_result"
    }
   ],
   "source": [
    "Rdd.getNumPartitions() # check partitions"
   ]
  },
  {
   "cell_type": "code",
   "execution_count": 7,
   "id": "f25c2b8d-148e-47b0-8d96-ecdba46cde5f",
   "metadata": {},
   "outputs": [
    {
     "data": {
      "text/plain": [
       "ParallelCollectionRDD[0] at readRDDFromFile at PythonRDD.scala:289"
      ]
     },
     "execution_count": 7,
     "metadata": {},
     "output_type": "execute_result"
    }
   ],
   "source": [
    "#Rdd.collect()\n",
    "Rdd.persist()"
   ]
  },
  {
   "cell_type": "code",
   "execution_count": 8,
   "id": "dd0dfc4c-7cc7-4bca-a13e-80f74755416b",
   "metadata": {},
   "outputs": [],
   "source": [
    "def collatz(x):\n",
    "    if x%2==0:\n",
    "        return x/2\n",
    "    else:\n",
    "        return 3*x+1"
   ]
  },
  {
   "cell_type": "code",
   "execution_count": 9,
   "id": "2e35d3e3-885c-4cdf-ba44-e65c7d072405",
   "metadata": {},
   "outputs": [
    {
     "name": "stdout",
     "output_type": "stream",
     "text": [
      "CPU times: user 2.55 ms, sys: 820 µs, total: 3.37 ms\n",
      "Wall time: 3.79 ms\n"
     ]
    }
   ],
   "source": [
    "%%time\n",
    "for _ in range(200):\n",
    "    Rdd=Rdd.map(collatz)\n",
    "#Rdd.collect()"
   ]
  },
  {
   "cell_type": "code",
   "execution_count": 10,
   "id": "0275f94b-9bdc-4b5f-818f-b2ae0ef8ec51",
   "metadata": {},
   "outputs": [],
   "source": [
    "#%%time\n",
    "Rdd=Rdd.persist()"
   ]
  },
  {
   "cell_type": "code",
   "execution_count": 11,
   "id": "4e450006-69c2-4aaf-b248-606d2c08da00",
   "metadata": {},
   "outputs": [
    {
     "data": {
      "text/plain": [
       "'\\n%%time\\nfor _ in range(100):\\n    Rdd=Rdd#.persist()\\n    Rdd=Rdd.map(collatz)\\n    Rdd#.unpersist()\\nRdd.collect();\\n'"
      ]
     },
     "execution_count": 11,
     "metadata": {},
     "output_type": "execute_result"
    }
   ],
   "source": [
    "'''\n",
    "%%time\n",
    "for _ in range(100):\n",
    "    Rdd=Rdd#.persist()\n",
    "    Rdd=Rdd.map(collatz)\n",
    "    Rdd#.unpersist()\n",
    "Rdd.collect();\n",
    "'''"
   ]
  },
  {
   "cell_type": "code",
   "execution_count": 12,
   "id": "31574e79-c0a1-4b63-8540-c1305e449199",
   "metadata": {},
   "outputs": [
    {
     "name": "stderr",
     "output_type": "stream",
     "text": [
      "[Stage 0:=============================>                             (1 + 1) / 2]\r"
     ]
    },
    {
     "name": "stdout",
     "output_type": "stream",
     "text": [
      "CPU times: user 8.43 ms, sys: 3.16 ms, total: 11.6 ms\n",
      "Wall time: 2.49 s\n"
     ]
    },
    {
     "name": "stderr",
     "output_type": "stream",
     "text": [
      "                                                                                \r"
     ]
    }
   ],
   "source": [
    "%%time\n",
    "for _ in range(100):\n",
    "    RddCached=Rdd.persist()\n",
    "    RddCached=RddCached.map(collatz)\n",
    "    RddCached.unpersist()\n",
    "Rdd.collect();"
   ]
  },
  {
   "cell_type": "code",
   "execution_count": null,
   "id": "0f261ebd-b589-4afe-aeea-71ff48b21279",
   "metadata": {},
   "outputs": [],
   "source": []
  }
 ],
 "metadata": {
  "kernelspec": {
   "display_name": "Python 3 (ipykernel)",
   "language": "python",
   "name": "python3"
  },
  "language_info": {
   "codemirror_mode": {
    "name": "ipython",
    "version": 3
   },
   "file_extension": ".py",
   "mimetype": "text/x-python",
   "name": "python",
   "nbconvert_exporter": "python",
   "pygments_lexer": "ipython3",
   "version": "3.11.8"
  }
 },
 "nbformat": 4,
 "nbformat_minor": 5
}
